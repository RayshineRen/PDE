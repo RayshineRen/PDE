{
 "cells": [
  {
   "cell_type": "code",
   "execution_count": 2,
   "metadata": {
    "collapsed": true
   },
   "outputs": [],
   "source": [
    "import tensorflow as tf\n",
    "import numpy as np\n",
    "import matplotlib.pyplot as plt\n",
    "import time\n",
    "import scipy.io\n",
    "from scipy.interpolate import griddata\n",
    "import warnings\n",
    "warnings.filterwarnings(\"ignore\")\n",
    "warnings.simplefilter('ignore')\n"
   ]
  },
  {
   "cell_type": "code",
   "execution_count": 3,
   "outputs": [],
   "source": [
    "np.random.seed(1234)\n",
    "tf.set_random_seed(1234)"
   ],
   "metadata": {
    "collapsed": false,
    "pycharm": {
     "name": "#%%\n"
    }
   }
  },
  {
   "cell_type": "code",
   "execution_count": 5,
   "outputs": [],
   "source": [
    "class NN:\n",
    "    def __init__(self, x, u, layers, activation, lr):\n",
    "        self.x = x\n",
    "        self.u = u\n",
    "        self.lr = lr\n",
    "        self.activation = activation\n",
    "        self.loss_log = []\n",
    "\n",
    "        self.weights, self.biases = self.initilize_NN(layers)\n",
    "        self.sess = tf.Session(config=tf.ConfigProto(log_device_placement=True))\n",
    "        self.x_tf = tf.placeholder(tf.float32, shape=[None, self.x.shape[1]])\n",
    "        self.u_tf = tf.placeholder(tf.float32, shape=[None, self.u.shape[1]])\n",
    "\n",
    "        self.u_pred = self.net_u(self.x_tf)\n",
    "\n",
    "        self.loss = tf.reduce_mean(tf.square(self.u_tf - self.u_pred))\n",
    "\n",
    "        steps_per_decay = 1000\n",
    "        decay_factor = 0.9\n",
    "        self.global_step = tf.Variable(0, trainable=False)\n",
    "        self.lr = tf.train.exponential_decay(learning_rate = lr,\n",
    "                                           global_step = self.global_step,\n",
    "                                           decay_steps = steps_per_decay,\n",
    "                                           decay_rate = decay_factor,\n",
    "                                           staircase = True\n",
    "                                           )\n",
    "        self.optimizer = tf.train.AdamOptimizer(learning_rate=self.lr).minimize(self.loss,\n",
    "                                            global_step=self.global_step)\n",
    "        init = tf.global_variables_initializer()\n",
    "        self.sess.run(init)\n",
    "\n",
    "    def initilize_NN(self, layers):\n",
    "        weights = []\n",
    "        biases  = []\n",
    "        num_layers = len(layers)\n",
    "        for l in range(0, num_layers - 1):\n",
    "            W = self.xavier_init(size=[layers[l], layers[l+1]])\n",
    "            b = tf.Variable(tf.zeros([1,layers[l+1]], dtype=tf.float32), dtype=tf.float32)\n",
    "            weights.append(W)\n",
    "            biases.append(b)\n",
    "        return weights, biases\n",
    "\n",
    "    def xavier_init(self, size):\n",
    "        in_dim = size[0]\n",
    "        out_dim = size[1]\n",
    "        xavier_stddev = np.sqrt(2/(in_dim + out_dim))\n",
    "        return tf.Variable(tf.truncated_normal([in_dim, out_dim], stddev=xavier_stddev), dtype=tf.float32)\n",
    "\n",
    "    def neural_net(self, X, weights, biases, activation):\n",
    "        num_layers = len(weights) + 1\n",
    "        H = X\n",
    "        for l in range(0, num_layers - 2):\n",
    "            W = weights[l]\n",
    "            b = biases[l]\n",
    "            H = activation(tf.add(tf.matmul(H, W), b))\n",
    "        W = weights[-1]\n",
    "        b = biases[-1]\n",
    "        Y = tf.add(tf.matmul(H, W), b)\n",
    "        return Y\n",
    "\n",
    "    def net_u(self, x):\n",
    "        u = self.neural_net(x, self.weights, self.biases, self.activation)\n",
    "        return u\n",
    "\n",
    "    def callback(self, loss, res, deriv):\n",
    "        print('Loss:%f,res:%f'%(loss, res))\n",
    "\n",
    "    def train(self, max_iter=40000):\n",
    "        loss_value = np.inf\n",
    "        for iter in range(max_iter):\n",
    "            self.sess.run(self.global_step)\n",
    "            tf_dict = {\n",
    "                self.x_tf:self.x,\n",
    "                self.u_tf:self.u\n",
    "            }\n",
    "            _, loss_value = self.sess.run([self.optimizer,\n",
    "                self.loss], tf_dict)\n",
    "            self.sess.run(self.lr)\n",
    "            if iter % 2000 == 0:\n",
    "                print(\"第%d次 %f\"%(iter, loss_value))\n",
    "        print(\"第%d次的损失为%f\"%(max_iter, loss_value))\n",
    "        print(\"最终lr为%f\"%(self.sess.run(self.lr)))\n",
    "\n",
    "    def predict(self, X_star):\n",
    "        u_star = self.sess.run(self.u_pred, {self.x_tf: X_star})\n",
    "        return u_star"
   ],
   "metadata": {
    "collapsed": false,
    "pycharm": {
     "name": "#%%\n"
    }
   }
  },
  {
   "cell_type": "code",
   "execution_count": 6,
   "outputs": [],
   "source": [
    "layers = [1, 20, 20, 20, 20, 1]\n",
    "activation = tf.tanh\n",
    "lr = 1e-3\n",
    "iterations = 10000"
   ],
   "metadata": {
    "collapsed": false,
    "pycharm": {
     "name": "#%%\n"
    }
   }
  },
  {
   "cell_type": "code",
   "execution_count": 7,
   "outputs": [],
   "source": [
    "def train_model(train_num):\n",
    "    x = np.linspace(0, 1, train_num)[:, None]\n",
    "    u = -(1.4-3*x)*np.sin(18*x)\n",
    "    start_time = time.time()\n",
    "    NN_tanh = NN(x, u, layers, activation, lr)\n",
    "    print(\"Start training! train_num:%d\"%(train_num))\n",
    "    NN_tanh.train(iterations)\n",
    "    elapsed = time.time() - start_time\n",
    "    print('Training time: %.4f' % (elapsed))\n",
    "    return NN_tanh"
   ],
   "metadata": {
    "collapsed": false,
    "pycharm": {
     "name": "#%%\n"
    }
   }
  },
  {
   "cell_type": "code",
   "execution_count": 8,
   "outputs": [],
   "source": [
    "def compute_error(model, test_num):\n",
    "    x_test   = np.linspace(0, 1, test_num)[:, None]\n",
    "    u_test   = -(1.4-3*x_test)*np.sin(18*x_test)\n",
    "    u_pred   = model.predict(x_test)\n",
    "    L2_norm  = np.linalg.norm(u_test-u_pred,2)/np.linalg.norm(u_test,2)\n",
    "    return L2_norm"
   ],
   "metadata": {
    "collapsed": false,
    "pycharm": {
     "name": "#%%\n"
    }
   }
  },
  {
   "cell_type": "code",
   "execution_count": 5,
   "outputs": [],
   "source": [
    "train_nums = np.arange(5, 31, 1)"
   ],
   "metadata": {
    "collapsed": false,
    "pycharm": {
     "name": "#%%\n"
    }
   }
  },
  {
   "cell_type": "code",
   "execution_count": null,
   "outputs": [],
   "source": [
    "test_num   = 1000\n",
    "errors     = []\n",
    "for train_num in train_nums:\n",
    "    model = train_model(train_num)\n",
    "    error = compute_error(model, test_num)\n",
    "    print(\"train_num:%d, error:%f\"%(train_num, error))\n",
    "    errors.append(error)"
   ],
   "metadata": {
    "collapsed": false,
    "pycharm": {
     "name": "#%%\n"
    }
   }
  },
  {
   "cell_type": "code",
   "execution_count": 12,
   "outputs": [
    {
     "data": {
      "text/plain": "<Figure size 432x288 with 1 Axes>",
      "image/png": "[encoded data removed]"
     },
     "metadata": {
      "needs_background": "light"
     },
     "output_type": "display_data"
    }
   ],
   "source": [
    "errors_NN  = np.array(errors)\n",
    "errors_gNN = np.load('errors_gNN.npy')\n",
    "plt.plot(train_nums, errors_NN, 'b-')\n",
    "plt.plot(train_nums, errors_gNN, 'r-')\n",
    "plt.yscale('log')\n",
    "plt.tight_layout()\n",
    "plt.savefig('Comparison between NN and gNN L2.pdf')\n",
    "plt.show()"
   ],
   "metadata": {
    "collapsed": false,
    "pycharm": {
     "name": "#%%\n"
    }
   }
  },
  {
   "cell_type": "code",
   "execution_count": 13,
   "outputs": [],
   "source": [
    "np.save('errors_NN.npy', errors_NN)"
   ],
   "metadata": {
    "collapsed": false,
    "pycharm": {
     "name": "#%%\n"
    }
   }
  },
  {
   "cell_type": "code",
   "execution_count": 9,
   "outputs": [
    {
     "data": {
      "text/plain": "<Figure size 432x288 with 1 Axes>",
      "image/png": "[encoded data removed]"
     },
     "metadata": {
      "needs_background": "light"
     },
     "output_type": "display_data"
    }
   ],
   "source": [
    "errors_gNN = np.load('errors.npy')\n",
    "errors_NN = np.load('errors_NN.npy')\n",
    "\n",
    "plt.plot(train_nums, errors_NN, 'b-', label='NN')\n",
    "plt.plot(train_nums, errors_gNN, 'r-', label='gNN')\n",
    "plt.yscale('log')\n",
    "plt.tight_layout()\n",
    "plt.legend()\n",
    "plt.savefig('Comparison between NN and gNN L2.pdf')\n",
    "plt.show()"
   ],
   "metadata": {
    "collapsed": false,
    "pycharm": {
     "name": "#%%\n"
    }
   }
  }
 ],
 "metadata": {
  "kernelspec": {
   "display_name": "Python 3",
   "language": "python",
   "name": "python3"
  },
  "language_info": {
   "codemirror_mode": {
    "name": "ipython",
    "version": 2
   },
   "file_extension": ".py",
   "mimetype": "text/x-python",
   "name": "python",
   "nbconvert_exporter": "python",
   "pygments_lexer": "ipython2",
   "version": "2.7.6"
  }
 },
 "nbformat": 4,
 "nbformat_minor": 0
}