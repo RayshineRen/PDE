{
 "cells": [
  {
   "cell_type": "code",
   "execution_count": 3,
   "metadata": {
    "collapsed": true
   },
   "outputs": [],
   "source": [
    "import os\n",
    "os.environ[\"CUDA_VISIBLE_DEVICES\"] = \"-1\"\n",
    "\n",
    "import tensorflow as tf\n",
    "import numpy as np\n",
    "import matplotlib.pyplot as plt\n",
    "import time\n",
    "import scipy.io\n",
    "from scipy.interpolate import griddata\n",
    "import warnings\n",
    "warnings.filterwarnings(\"ignore\")\n",
    "warnings.simplefilter('ignore')"
   ]
  },
  {
   "cell_type": "code",
   "execution_count": 4,
   "outputs": [],
   "source": [
    "np.random.seed(1234)\n",
    "tf.set_random_seed(1234)"
   ],
   "metadata": {
    "collapsed": false,
    "pycharm": {
     "name": "#%%\n"
    }
   }
  },
  {
   "cell_type": "code",
   "execution_count": 12,
   "outputs": [],
   "source": [
    "class gPINN:\n",
    "    def __init__(self, x, t, D, layers, activation, lr, w_g):\n",
    "        self.x = x\n",
    "        self.t = t\n",
    "        self.D = D\n",
    "        self.lr = lr\n",
    "        self.activation = activation\n",
    "        self.w_g = w_g\n",
    "        self.loss_log = []\n",
    "\n",
    "        self.weights, self.biases = self.initilize_NN(layers)\n",
    "        self.sess = tf.Session(config=tf.ConfigProto(log_device_placement=True))\n",
    "        self.x_tf = tf.placeholder(tf.float32, shape=[None, self.x.shape[1]])\n",
    "        self.t_tf = tf.placeholder(tf.float32, shape=[None, self.t.shape[1]])\n",
    "\n",
    "        self.surrogate_u = self.surrogate(self.x_tf, self.t_tf)\n",
    "        self.residual    = self.residual_net(self.surrogate_u, self.x_tf, self.t_tf)\n",
    "        self.loss_res    = tf.reduce_mean(tf.square(self.residual))\n",
    "        self.loss_der_x  = tf.reduce_mean(tf.square(self.resi_der_x(self.residual, self.x_tf)))\n",
    "        self.loss_der_t  = tf.reduce_mean(tf.square(self.resi_der_t(self.residual, self.t_tf)))\n",
    "        self.loss        = self.loss_res + self.w_g * self.loss_der_t + self.w_g * self.loss_der_x\n",
    "\n",
    "        self.optimizer = tf.train.AdamOptimizer(learning_rate=self.lr).minimize(self.loss)\n",
    "        init = tf.global_variables_initializer()\n",
    "        self.sess.run(init)\n",
    "\n",
    "    def initilize_NN(self, layers):\n",
    "        weights = []\n",
    "        biases  = []\n",
    "        num_layers = len(layers)\n",
    "        for l in range(0, num_layers - 1):\n",
    "            W = self.xavier_init(size=[layers[l], layers[l+1]])\n",
    "            b = tf.Variable(tf.zeros([1,layers[l+1]], dtype=tf.float32), dtype=tf.float32)\n",
    "            weights.append(W)\n",
    "            biases.append(b)\n",
    "        return weights, biases\n",
    "\n",
    "    def xavier_init(self, size):\n",
    "        in_dim = size[0]\n",
    "        out_dim = size[1]\n",
    "        xavier_stddev = np.sqrt(2/(in_dim + out_dim))\n",
    "        return tf.Variable(tf.truncated_normal([in_dim, out_dim], stddev=xavier_stddev), dtype=tf.float32)\n",
    "\n",
    "    def neural_net(self, X, weights, biases, activation):\n",
    "        num_layers = len(weights) + 1\n",
    "        H = X\n",
    "        for l in range(0, num_layers - 2):\n",
    "            W = weights[l]\n",
    "            b = biases[l]\n",
    "            H = activation(tf.add(tf.matmul(H, W), b))\n",
    "        W = weights[-1]\n",
    "        b = biases[-1]\n",
    "        Y = tf.add(tf.matmul(H, W), b)\n",
    "        return Y\n",
    "\n",
    "    def net_u(self, x, t):\n",
    "        u = self.neural_net(tf.concat([x, t], 1), self.weights, self.biases, self.activation)\n",
    "        return u\n",
    "\n",
    "    def surrogate(self, x, t):\n",
    "        rhs = tf.sin(8*x) / 8\n",
    "        for i in range(1, 5):\n",
    "            rhs += tf.sin(i*x) / i\n",
    "        return (x**2 - np.pi**2)*(1-np.e**-t)*self.net_u(x, t) + rhs\n",
    "\n",
    "    def R(self, x, t):\n",
    "        return np.e**(-t)*(3/2*tf.sin(2*x)+8/3*tf.sin(3*x)+15/4*tf.sin(4*x)+63/8*tf.sin(8*x))\n",
    "\n",
    "    def residual_net(self, u, x, t):\n",
    "        u_x  = tf.gradients(u, x)[0]\n",
    "        u_t  = tf.gradients(u, t)[0]\n",
    "        u_xx = tf.gradients(u_x, x)[0]\n",
    "        return u_t - self.D*u_xx - self.R(x, t)\n",
    "\n",
    "    def resi_der_x(self, res, x):\n",
    "        res_x = tf.gradients(res, x)[0]\n",
    "        return res_x\n",
    "\n",
    "    def resi_der_t(self, res, t):\n",
    "        res_t = tf.gradients(res, t)[0]\n",
    "        return res_t\n",
    "\n",
    "    def callback(self, loss, res, deriv):\n",
    "        print('Loss:%f,res:%f,deriv:%f'%(loss, res, deriv))\n",
    "\n",
    "    def train(self, max_iter=40000):\n",
    "        loss_value = np.inf\n",
    "        for iter in range(max_iter):\n",
    "            tf_dict = {\n",
    "                self.x_tf:self.x,\n",
    "                self.t_tf:self.t\n",
    "            }\n",
    "            _, loss_value, lres, lder_x, lder_t = self.sess.run([self.optimizer,\n",
    "                self.loss, self.loss_res, self.loss_der_x, self.loss_der_t], tf_dict)\n",
    "            self.loss_log.append(loss_value)\n",
    "            if iter % 1000 == 0:\n",
    "                print(\"第%d次 %f,res %f,rdx %f,rdt %f\"%(iter, loss_value, lres, lder_x, lder_t))\n",
    "        print(\"第%d次的损失为%f\"%(max_iter, loss_value))\n",
    "\n",
    "    def predict(self, X_star, T_star):\n",
    "        u_star = self.sess.run(self.surrogate_u, {self.x_tf: X_star, self.t_tf:T_star})\n",
    "        return u_star"
   ],
   "metadata": {
    "collapsed": false,
    "pycharm": {
     "name": "#%%\n"
    }
   }
  },
  {
   "cell_type": "code",
   "execution_count": 30,
   "outputs": [],
   "source": [
    "layers = [2, 20, 20, 20, 20, 1]\n",
    "activation = tf.tanh\n",
    "lr = 1e-4\n",
    "iterations = 100000\n",
    "D = 1\n",
    "w_g = 0.1"
   ],
   "metadata": {
    "collapsed": false,
    "pycharm": {
     "name": "#%%\n"
    }
   }
  },
  {
   "cell_type": "code",
   "execution_count": 12,
   "outputs": [],
   "source": [
    "def train_model(train_num):\n",
    "    x = np.linspace(-np.pi, np.pi, train_num)[:, None]\n",
    "    t = np.linspace(0, 1, train_num)[:, None]\n",
    "    X, T = np.meshgrid(x, t)\n",
    "    x = X.flatten()[:, None]\n",
    "    t = T.flatten()[:, None]\n",
    "    start_time = time.time()\n",
    "    gPINN_tanh = gPINN(x, t, D, layers, activation, lr, w_g)\n",
    "    print(\"Start training! train_num:%d\"%(train_num))\n",
    "    gPINN_tanh.train(iterations)\n",
    "    elapsed = time.time() - start_time\n",
    "    print('Training time: %.4f' % (elapsed))\n",
    "    return gPINN_tanh"
   ],
   "metadata": {
    "collapsed": false,
    "pycharm": {
     "name": "#%%\n"
    }
   }
  },
  {
   "cell_type": "code",
   "execution_count": 13,
   "outputs": [],
   "source": [
    "def compute_error(model, test_num):\n",
    "    x_test = np.linspace(-np.pi, np.pi, test_num)[:, None]\n",
    "    t_test = np.linspace(0, 1, test_num)[:, None]\n",
    "    X, T = np.meshgrid(x_test, t_test)\n",
    "    x_test = X.flatten()[:, None]\n",
    "    t_test = T.flatten()[:, None]\n",
    "    u_test  = np.sin(8*x_test)/8\n",
    "    for i in range(1, 5):\n",
    "        u_test += np.sin(i*x_test) / i\n",
    "    u_test  *= np.e**(-t_test)\n",
    "    u_pred   = model.predict(x_test, t_test)\n",
    "    L2_norm  = np.linalg.norm(u_test-u_pred,2)/np.linalg.norm(u_test,2)\n",
    "    return L2_norm"
   ],
   "metadata": {
    "collapsed": false,
    "pycharm": {
     "name": "#%%\n"
    }
   }
  },
  {
   "cell_type": "code",
   "execution_count": 1,
   "outputs": [
    {
     "ename": "NameError",
     "evalue": "name 'np' is not defined",
     "output_type": "error",
     "traceback": [
      "\u001B[1;31m---------------------------------------------------------------------------\u001B[0m",
      "\u001B[1;31mNameError\u001B[0m                                 Traceback (most recent call last)",
      "\u001B[1;32m<ipython-input-1-5508ef499a4d>\u001B[0m in \u001B[0;36m<module>\u001B[1;34m\u001B[0m\n\u001B[0;32m      1\u001B[0m \u001B[1;31m# pydev_debug_cell\u001B[0m\u001B[1;33m\u001B[0m\u001B[1;33m\u001B[0m\u001B[1;33m\u001B[0m\u001B[0m\n\u001B[1;32m----> 2\u001B[1;33m \u001B[0mtrain_nums\u001B[0m \u001B[1;33m=\u001B[0m \u001B[0mnp\u001B[0m\u001B[1;33m.\u001B[0m\u001B[0marray\u001B[0m\u001B[1;33m(\u001B[0m\u001B[1;33m[\u001B[0m\u001B[1;36m5\u001B[0m\u001B[1;33m,\u001B[0m \u001B[1;36m6\u001B[0m\u001B[1;33m,\u001B[0m \u001B[1;36m7\u001B[0m\u001B[1;33m,\u001B[0m \u001B[1;36m8\u001B[0m\u001B[1;33m,\u001B[0m \u001B[1;36m9\u001B[0m\u001B[1;33m,\u001B[0m \u001B[1;36m10\u001B[0m\u001B[1;33m,\u001B[0m \u001B[1;36m11\u001B[0m\u001B[1;33m]\u001B[0m\u001B[1;33m)\u001B[0m\u001B[1;33m\u001B[0m\u001B[1;33m\u001B[0m\u001B[0m\n\u001B[0m\u001B[0;32m      3\u001B[0m \u001B[0mtest_num\u001B[0m   \u001B[1;33m=\u001B[0m \u001B[1;36m100\u001B[0m\u001B[1;33m\u001B[0m\u001B[1;33m\u001B[0m\u001B[0m\n\u001B[0;32m      4\u001B[0m \u001B[0merrors\u001B[0m     \u001B[1;33m=\u001B[0m \u001B[1;33m[\u001B[0m\u001B[1;33m]\u001B[0m\u001B[1;33m\u001B[0m\u001B[1;33m\u001B[0m\u001B[0m\n\u001B[0;32m      5\u001B[0m \u001B[1;32mfor\u001B[0m \u001B[0mtrain_num\u001B[0m \u001B[1;32min\u001B[0m \u001B[0mtrain_nums\u001B[0m\u001B[1;33m:\u001B[0m\u001B[1;33m\u001B[0m\u001B[1;33m\u001B[0m\u001B[0m\n",
      "\u001B[1;31mNameError\u001B[0m: name 'np' is not defined"
     ]
    }
   ],
   "source": [
    "train_nums = np.array([5, 6, 7, 8, 9, 10, 11])\n",
    "test_num   = 100\n",
    "errors     = []\n",
    "for train_num in train_nums:\n",
    "    model = train_model(train_num)\n",
    "    error = compute_error(model, test_num)\n",
    "    print(\"train_num:%d, error:%f\"%(train_num, error))\n",
    "    errors.append(error)\n",
    "errors = np.array(errors)\n",
    "np.save('errors_gPINN.npy', errors)"
   ],
   "metadata": {
    "collapsed": false,
    "pycharm": {
     "name": "#%%\n"
    }
   }
  },
  {
   "cell_type": "code",
   "execution_count": 31,
   "outputs": [
    {
     "name": "stdout",
     "output_type": "stream",
     "text": [
      "Start training!\n",
      "第0次 66.874664,res 24.858837,rdx 401.796600,rdt 18.361670\n",
      "第1000次 39.166367,res 3.909839,rdx 340.101440,rdt 12.463863\n",
      "第2000次 30.875332,res 6.123712,rdx 234.158463,rdt 13.357743\n",
      "第3000次 15.508022,res 3.157445,rdx 116.270607,rdt 7.235166\n",
      "第4000次 7.639418,res 1.443105,rdx 57.421143,rdt 4.541977\n",
      "第5000次 4.164549,res 1.270495,rdx 26.208618,rdt 2.731920\n",
      "第6000次 1.396277,res 0.232312,rdx 9.223896,rdt 2.415756\n",
      "第7000次 0.530173,res 0.073338,rdx 2.674698,rdt 1.893654\n",
      "第8000次 0.295552,res 0.036622,rdx 1.177539,rdt 1.411759\n",
      "第9000次 0.191745,res 0.021555,rdx 0.612518,rdt 1.089382\n",
      "第10000次 0.139265,res 0.014800,rdx 0.370490,rdt 0.874162\n",
      "第11000次 0.149705,res 0.019598,rdx 0.530053,rdt 0.771013\n",
      "第12000次 0.090351,res 0.009371,rdx 0.192505,rdt 0.617287\n",
      "第13000次 0.076709,res 0.007922,rdx 0.156600,rdt 0.531271\n",
      "第14000次 0.066328,res 0.006694,rdx 0.134297,rdt 0.462044\n",
      "第15000次 0.058223,res 0.005790,rdx 0.119817,rdt 0.404517\n",
      "第16000次 0.055260,res 0.006492,rdx 0.133596,rdt 0.354076\n",
      "第17000次 0.046179,res 0.004464,rdx 0.102863,rdt 0.314280\n",
      "第18000次 0.041704,res 0.003956,rdx 0.098006,rdt 0.279474\n",
      "第19000次 0.037936,res 0.003548,rdx 0.094335,rdt 0.249545\n",
      "第20000次 0.036315,res 0.004045,rdx 0.098557,rdt 0.224138\n",
      "第21000次 0.038691,res 0.004107,rdx 0.135291,rdt 0.210548\n",
      "第22000次 0.042915,res 0.004105,rdx 0.200466,rdt 0.187636\n",
      "第23000次 0.027970,res 0.002556,rdx 0.085435,rdt 0.168707\n",
      "第24000次 0.026554,res 0.002510,rdx 0.087649,rdt 0.152799\n",
      "第25000次 0.024368,res 0.002115,rdx 0.081595,rdt 0.140938\n",
      "第26000次 0.022961,res 0.001951,rdx 0.079921,rdt 0.130180\n",
      "第27000次 0.027283,res 0.003948,rdx 0.103657,rdt 0.129694\n",
      "第28000次 0.025916,res 0.002553,rdx 0.115826,rdt 0.117808\n",
      "第29000次 0.020033,res 0.001621,rdx 0.079849,rdt 0.104277\n",
      "第30000次 0.019156,res 0.001646,rdx 0.076611,rdt 0.098498\n",
      "第31000次 0.017853,res 0.001425,rdx 0.072794,rdt 0.091490\n",
      "第32000次 0.017199,res 0.001386,rdx 0.072424,rdt 0.085707\n",
      "第33000次 0.016687,res 0.001410,rdx 0.072218,rdt 0.080552\n",
      "第34000次 0.015756,res 0.001225,rdx 0.069075,rdt 0.076236\n",
      "第35000次 0.015151,res 0.001177,rdx 0.067793,rdt 0.071955\n",
      "第36000次 0.014998,res 0.001377,rdx 0.068124,rdt 0.068089\n",
      "第37000次 0.014087,res 0.001071,rdx 0.065506,rdt 0.064663\n",
      "第38000次 0.030369,res 0.003360,rdx 0.199705,rdt 0.070384\n",
      "第39000次 0.027123,res 0.005528,rdx 0.145580,rdt 0.070369\n",
      "第40000次 0.012931,res 0.001091,rdx 0.062967,rdt 0.055430\n",
      "第41000次 0.012345,res 0.000906,rdx 0.061372,rdt 0.053015\n",
      "第42000次 0.011985,res 0.000879,rdx 0.060449,rdt 0.050613\n",
      "第43000次 0.013611,res 0.000996,rdx 0.077729,rdt 0.048420\n",
      "第44000次 0.011456,res 0.000848,rdx 0.059392,rdt 0.046684\n",
      "第45000次 0.011006,res 0.000785,rdx 0.057786,rdt 0.044415\n",
      "第46000次 0.038688,res 0.007332,rdx 0.251140,rdt 0.062424\n",
      "第47000次 0.010598,res 0.000784,rdx 0.057348,rdt 0.040787\n",
      "第48000次 0.010817,res 0.000815,rdx 0.060836,rdt 0.039183\n",
      "第49000次 0.009943,res 0.000691,rdx 0.054695,rdt 0.037827\n",
      "第50000次 0.009767,res 0.000698,rdx 0.054403,rdt 0.036285\n",
      "第51000次 0.009577,res 0.000659,rdx 0.053929,rdt 0.035255\n",
      "第52000次 0.009295,res 0.000637,rdx 0.052717,rdt 0.033864\n",
      "第53000次 0.009376,res 0.000688,rdx 0.054397,rdt 0.032486\n",
      "第54000次 0.009878,res 0.001046,rdx 0.056473,rdt 0.031847\n",
      "第55000次 0.008731,res 0.000614,rdx 0.050819,rdt 0.030349\n",
      "第56000次 0.010872,res 0.000884,rdx 0.070097,rdt 0.029780\n",
      "第57000次 0.008363,res 0.000560,rdx 0.049556,rdt 0.028476\n",
      "第58000次 0.008742,res 0.000550,rdx 0.054246,rdt 0.027673\n",
      "第59000次 0.008077,res 0.000553,rdx 0.048555,rdt 0.026685\n",
      "第60000次 0.007909,res 0.000518,rdx 0.047975,rdt 0.025933\n",
      "第61000次 0.008554,res 0.000533,rdx 0.054834,rdt 0.025367\n",
      "第62000次 0.010284,res 0.001838,rdx 0.057808,rdt 0.026648\n",
      "第63000次 0.011029,res 0.001910,rdx 0.062913,rdt 0.028271\n",
      "第64000次 0.008188,res 0.000885,rdx 0.049525,rdt 0.023513\n",
      "第65000次 0.018971,res 0.002987,rdx 0.133602,rdt 0.026238\n",
      "第66000次 0.007192,res 0.000472,rdx 0.045461,rdt 0.021734\n",
      "第67000次 0.009983,res 0.000544,rdx 0.073203,rdt 0.021183\n",
      "第68000次 0.006929,res 0.000439,rdx 0.044278,rdt 0.020618\n",
      "第69000次 0.006874,res 0.000438,rdx 0.044242,rdt 0.020119\n",
      "第70000次 0.007113,res 0.000564,rdx 0.045862,rdt 0.019628\n",
      "第71000次 0.006828,res 0.000535,rdx 0.043819,rdt 0.019112\n",
      "第72000次 0.006537,res 0.000409,rdx 0.042710,rdt 0.018573\n",
      "第73000次 0.007589,res 0.001073,rdx 0.046166,rdt 0.018992\n",
      "第74000次 0.006361,res 0.000399,rdx 0.041972,rdt 0.017656\n",
      "第75000次 0.006333,res 0.000417,rdx 0.041725,rdt 0.017434\n",
      "第76000次 0.006270,res 0.000388,rdx 0.042001,rdt 0.016822\n",
      "第77000次 0.007847,res 0.000726,rdx 0.053665,rdt 0.017550\n",
      "第78000次 0.006050,res 0.000370,rdx 0.040693,rdt 0.016109\n",
      "第79000次 0.007166,res 0.000384,rdx 0.052013,rdt 0.015797\n",
      "第80000次 0.005940,res 0.000380,rdx 0.040100,rdt 0.015501\n",
      "第81000次 0.005820,res 0.000357,rdx 0.039642,rdt 0.014988\n",
      "第82000次 0.006373,res 0.000399,rdx 0.044821,rdt 0.014926\n",
      "第83000次 0.014616,res 0.005989,rdx 0.058586,rdt 0.027691\n",
      "第84000次 0.005813,res 0.000370,rdx 0.040420,rdt 0.014006\n",
      "第85000次 0.005557,res 0.000335,rdx 0.038473,rdt 0.013751\n",
      "第86000次 0.005492,res 0.000331,rdx 0.038154,rdt 0.013465\n",
      "第87000次 0.005578,res 0.000370,rdx 0.038681,rdt 0.013396\n",
      "第88000次 0.006413,res 0.000572,rdx 0.045120,rdt 0.013293\n",
      "第89000次 0.005462,res 0.000387,rdx 0.038049,rdt 0.012694\n",
      "第90000次 0.008735,res 0.002560,rdx 0.043485,rdt 0.018261\n",
      "第91000次 0.016500,res 0.000918,rdx 0.142224,rdt 0.013597\n",
      "第92000次 0.005204,res 0.000331,rdx 0.036847,rdt 0.011885\n",
      "第93000次 0.007363,res 0.000369,rdx 0.058061,rdt 0.011879\n",
      "第94000次 0.011376,res 0.003137,rdx 0.065604,rdt 0.016794\n",
      "第95000次 0.005606,res 0.000673,rdx 0.037477,rdt 0.011855\n",
      "第96000次 0.005722,res 0.000409,rdx 0.041888,rdt 0.011243\n",
      "第97000次 0.007315,res 0.001913,rdx 0.039253,rdt 0.014766\n",
      "第98000次 0.004889,res 0.000283,rdx 0.035418,rdt 0.010647\n",
      "第99000次 0.005124,res 0.000325,rdx 0.037362,rdt 0.010622\n",
      "第100000次的损失为0.005202\n",
      "Training time: 540.2413\n"
     ]
    }
   ],
   "source": [
    "x = np.linspace(-np.pi, np.pi, 10)[:, None]\n",
    "t = np.linspace(0, 1, 5)[:, None]\n",
    "X, T = np.meshgrid(x, t)\n",
    "x = X.flatten()[:, None]\n",
    "t = T.flatten()[:, None]\n",
    "start_time = time.time()\n",
    "gPINN_tanh = gPINN(x, t, D, layers, activation, lr, w_g)\n",
    "print(\"Start training!\")\n",
    "gPINN_tanh.train(iterations)\n",
    "elapsed = time.time() - start_time\n",
    "print('Training time: %.4f' % (elapsed))"
   ],
   "metadata": {
    "collapsed": false,
    "pycharm": {
     "name": "#%%\n"
    }
   }
  },
  {
   "cell_type": "code",
   "execution_count": 32,
   "outputs": [],
   "source": [
    "x_num = 400\n",
    "t_num = 200\n",
    "x_test = np.linspace(-np.pi, np.pi, x_num)[:, None]\n",
    "t_test = np.linspace(0, 1, t_num)[:, None]\n",
    "X, T = np.meshgrid(x_test, t_test)\n",
    "x_test = X.flatten()[:, None]\n",
    "t_test = T.flatten()[:, None]\n",
    "u_test  = np.sin(8*x_test)/8\n",
    "for i in range(1, 5):\n",
    "    u_test += np.sin(i*x_test) / i\n",
    "u_test  *= np.e**(-t_test)"
   ],
   "metadata": {
    "collapsed": false,
    "pycharm": {
     "name": "#%%\n"
    }
   }
  },
  {
   "cell_type": "code",
   "execution_count": 33,
   "outputs": [
    {
     "name": "stdout",
     "output_type": "stream",
     "text": [
      "1.512920040156387\n"
     ]
    }
   ],
   "source": [
    "# t -> [0, 1] : x -> [-pi, pi]\n",
    "u_pred = gPINN_tanh.predict(x_test, t_test)\n",
    "L2_norm  = np.linalg.norm(u_test-u_pred,2)/np.linalg.norm(u_test,2)\n",
    "print(L2_norm)"
   ],
   "metadata": {
    "collapsed": false,
    "pycharm": {
     "name": "#%%\n"
    }
   }
  },
  {
   "cell_type": "code",
   "execution_count": 34,
   "outputs": [
    {
     "data": {
      "text/plain": "<Figure size 432x360 with 2 Axes>",
      "image/png": "[encoded data removed]"
     },
     "metadata": {
      "needs_background": "light"
     },
     "output_type": "display_data"
    }
   ],
   "source": [
    "u_test = np.reshape(u_test, (t_num, x_num))\n",
    "u_pred = np.reshape(u_pred, (t_num, x_num))\n",
    "fig = plt.figure(figsize=(6,5))\n",
    "plt.pcolor(X, T, u_pred, cmap='jet')\n",
    "plt.xlabel('$x$')\n",
    "plt.ylabel('$t$')\n",
    "plt.title('Predict $u(x,t)$')\n",
    "plt.colorbar()\n",
    "plt.tight_layout()\n",
    "plt.savefig('Pred s gPINN.pdf')"
   ],
   "metadata": {
    "collapsed": false,
    "pycharm": {
     "name": "#%%\n"
    }
   }
  },
  {
   "cell_type": "code",
   "execution_count": null,
   "outputs": [],
   "source": [
    "fig = plt.figure(figsize=(6,5))\n",
    "plt.pcolor(X, T, u_test, cmap='jet')\n",
    "plt.xlabel('$x$')\n",
    "plt.ylabel('$t$')\n",
    "plt.title('Exact $u(x,t)$')\n",
    "plt.colorbar()\n",
    "plt.tight_layout()\n",
    "# plt.savefig('Exact s.pdf')\n"
   ],
   "metadata": {
    "collapsed": false,
    "pycharm": {
     "name": "#%%\n"
    }
   }
  }
 ],
 "metadata": {
  "kernelspec": {
   "display_name": "Python 3",
   "language": "python",
   "name": "python3"
  },
  "language_info": {
   "codemirror_mode": {
    "name": "ipython",
    "version": 2
   },
   "file_extension": ".py",
   "mimetype": "text/x-python",
   "name": "python",
   "nbconvert_exporter": "python",
   "pygments_lexer": "ipython2",
   "version": "2.7.6"
  }
 },
 "nbformat": 4,
 "nbformat_minor": 0
}