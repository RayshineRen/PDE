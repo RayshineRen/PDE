{
 "cells": [
  {
   "cell_type": "code",
   "execution_count": 2,
   "metadata": {
    "collapsed": true
   },
   "outputs": [],
   "source": [
    "\n",
    "import tensorflow as tf\n",
    "import numpy as np\n",
    "import matplotlib.pyplot as plt\n",
    "import time\n",
    "import scipy.io\n",
    "from scipy.interpolate import griddata\n",
    "import warnings\n",
    "warnings.filterwarnings(\"ignore\")\n",
    "warnings.simplefilter('ignore')"
   ]
  },
  {
   "cell_type": "code",
   "execution_count": 3,
   "outputs": [],
   "source": [
    "np.random.seed(1234)\n",
    "tf.set_random_seed(1234)"
   ],
   "metadata": {
    "collapsed": false,
    "pycharm": {
     "name": "#%%\n"
    }
   }
  },
  {
   "cell_type": "code",
   "execution_count": 4,
   "outputs": [],
   "source": [
    "class PI_DeepONet:\n",
    "    def __init__(self, m, ics_data, bcs_data, res_data, branch_layer, trunk_layer, lr, activation):\n",
    "        self.m = m\n",
    "        self.ics_data = ics_data\n",
    "        self.bcs_data = bcs_data\n",
    "        self.res_data = res_data\n",
    "        self.activation = activation\n",
    "        self.loss_log = []\n",
    "        self.loss_res_log = []\n",
    "        self.loss_ics_log = []\n",
    "        self.loss_bcs_log = []\n",
    "\n",
    "        self.branch_layer = branch_layer\n",
    "        self.trunk_layer  = trunk_layer\n",
    "\n",
    "        self.sess = tf.Session()\n",
    "        self.branch_weights, self.branch_biases = self.initilize_NN(branch_layer)\n",
    "        self.trunk_weights, self.trunk_biases   = self.initilize_NN(trunk_layer)\n",
    "        self.bias = tf.Variable(tf.zeros([1], dtype=tf.float32), dtype=tf.float32)\n",
    "        # initial condition\n",
    "        self.u_i_tf  = tf.placeholder(tf.float32, shape=[None, self.m])\n",
    "        self.t_i_tf  = tf.placeholder(tf.float32, shape=[None, 1])\n",
    "        self.x_i_tf  = tf.placeholder(tf.float32, shape=[None, 1])\n",
    "        self.s_i_tf  = tf.placeholder(tf.float32, shape=[None, 1])\n",
    "        # boundary condition\n",
    "        self.u_b_tf  = tf.placeholder(tf.float32, shape=[None, self.m])\n",
    "        self.t1_b_tf = tf.placeholder(tf.float32, shape=[None, 1])\n",
    "        self.x1_b_tf = tf.placeholder(tf.float32, shape=[None, 1])\n",
    "        self.t2_b_tf = tf.placeholder(tf.float32, shape=[None, 1])\n",
    "        self.x2_b_tf = tf.placeholder(tf.float32, shape=[None, 1])\n",
    "        self.s_b_tf  = tf.placeholder(tf.float32, shape=[None, 1])\n",
    "        # collocation points\n",
    "        self.u_r_tf  = tf.placeholder(tf.float32, shape=[None, self.m])\n",
    "        self.t_r_tf  = tf.placeholder(tf.float32, shape=[None, 1])\n",
    "        self.x_r_tf  = tf.placeholder(tf.float32, shape=[None, 1])\n",
    "        self.s_r_tf  = tf.placeholder(tf.float32, shape=[None, 1])\n",
    "\n",
    "        self.operator = self.operator_net(self.u_r_tf, self.t_r_tf, self.x_r_tf)\n",
    "        self.residual = self.residual_net(self.u_r_tf, self.t_r_tf, self.x_r_tf)\n",
    "        self.s_r      = self.loss_res(self.u_r_tf, self.t_r_tf, self.x_r_tf, self.s_r_tf)\n",
    "        self.s_i      = self.loss_ics(self.u_i_tf, self.t_i_tf, self.x_i_tf, self.s_i_tf)\n",
    "        self.s_b      = self.loss_bcs(self.u_b_tf, self.t1_b_tf, self.x1_b_tf,\n",
    "                                      self.t2_b_tf, self.x2_b_tf, self.s_b_tf)\n",
    "        self.loss     = self.s_r + self.s_i + self.s_b\n",
    "\n",
    "        steps_per_decay = 1000\n",
    "        decay_factor = 0.9\n",
    "        self.global_step = tf.Variable(0, trainable=False)\n",
    "        self.lr = tf.train.exponential_decay(learning_rate = lr,\n",
    "                                           global_step = self.global_step,\n",
    "                                           decay_steps = steps_per_decay,\n",
    "                                           decay_rate = decay_factor,\n",
    "                                           staircase = True\n",
    "                                           )\n",
    "        self.optimizer = tf.train.AdamOptimizer(learning_rate=self.lr).minimize(self.loss,\n",
    "                                            global_step=self.global_step)\n",
    "        init = tf.global_variables_initializer()\n",
    "        self.sess.run(init)\n",
    "\n",
    "    def callback(self, loss, sr, si, sb):\n",
    "        print('Loss:%f,ic:%f,bc:%f,res:%f'%(loss, si, sb, sr))\n",
    "\n",
    "    def initilize_NN(self, layers):\n",
    "        weights = []\n",
    "        biases  = []\n",
    "        num_layers = len(layers)\n",
    "        for l in range(0, num_layers - 1):\n",
    "            W = self.xavier_init(size=[layers[l], layers[l+1]])\n",
    "            b = tf.Variable(tf.zeros([1,layers[l+1]], dtype=tf.float32), dtype=tf.float32)\n",
    "            weights.append(W)\n",
    "            biases.append(b)\n",
    "        return weights, biases\n",
    "\n",
    "    def xavier_init(self, size):\n",
    "        in_dim = size[0]\n",
    "        out_dim = size[1]\n",
    "        xavier_stddev = np.sqrt(2/(in_dim + out_dim))\n",
    "        return tf.Variable(tf.truncated_normal([in_dim, out_dim], stddev=xavier_stddev), dtype=tf.float32)\n",
    "\n",
    "    def neural_net(self, X, weights, biases, activation):\n",
    "        num_layers = len(weights) + 1\n",
    "        H = X\n",
    "        for l in range(0, num_layers - 2):\n",
    "            W = weights[l]\n",
    "            b = biases[l]\n",
    "            H = activation(tf.add(tf.matmul(H, W), b))\n",
    "        W = weights[-1]\n",
    "        b = biases[-1]\n",
    "        Y = tf.add(tf.matmul(H, W), b)\n",
    "        return Y\n",
    "\n",
    "    def train(self, max_iter=40000, batch_size=50):\n",
    "        loss_value = np.inf\n",
    "        for iter in range(max_iter):\n",
    "            self.sess.run(self.global_step)\n",
    "            u_i, y_i, s_i = self.ics_data.get_batch()\n",
    "            u_b, y_b, s_b = self.bcs_data.get_batch()\n",
    "            u_r, y_r, s_r = self.res_data.get_batch()\n",
    "            tf_dict = {\n",
    "                self.u_r_tf  : u_r,\n",
    "                self.t_r_tf  : y_r[:, 0][:, None],\n",
    "                self.x_r_tf  : y_r[:, 1][:, None],\n",
    "                self.s_r_tf  : s_r,\n",
    "                self.u_i_tf  : u_i,\n",
    "                self.t_i_tf  : y_i[:, 0][:, None],\n",
    "                self.x_i_tf  : y_i[:, 1][:, None],\n",
    "                self.s_i_tf  : s_i,\n",
    "                self.u_b_tf  : u_b,\n",
    "                self.t1_b_tf : y_b[:, 0][:, None],\n",
    "                self.x1_b_tf : y_b[:, 1][:, None],\n",
    "                self.t2_b_tf : y_b[:, 2][:, None],\n",
    "                self.x2_b_tf : y_b[:, 3][:, None],\n",
    "                self.s_b_tf  : s_b\n",
    "            }\n",
    "            _, loss_value, si, sb, sr= self.sess.run([self.optimizer,\n",
    "                self.loss, self.s_i, self.s_b, self.s_r], tf_dict)\n",
    "            self.loss_res_log.append(sr)\n",
    "            self.loss_bcs_log.append(sb)\n",
    "            self.loss_ics_log.append(si)\n",
    "            self.loss_log.append(loss_value)\n",
    "            self.sess.run(self.lr)\n",
    "            if iter % 100 == 0:\n",
    "                print(\"第%d次 %f,ic %f,bc %f,res %f\"%(iter, loss_value, si, sb, sr))\n",
    "        print(\"第%d次的损失为%f\"%(max_iter, loss_value))\n",
    "        print(\"最终lr为%f\"%(self.sess.run(self.lr)))\n",
    "\n",
    "    def operator_net(self, u, t, x):\n",
    "        branch_out = self.neural_net(u, self.branch_weights, self.branch_biases, self.activation)\n",
    "        trunk_out  = self.neural_net(tf.concat([t, x], 1), self.trunk_weights, self.trunk_biases, self.activation)\n",
    "        s = tf.reshape(tf.reduce_sum(tf.multiply(branch_out, trunk_out),\n",
    "                     axis=1) + self.bias, [-1, 1])\n",
    "        return s\n",
    "\n",
    "    def residual_net(self, u, t, x):\n",
    "        s_pred = self.operator_net(u, t, x)\n",
    "        s_t  = tf.gradients(s_pred, t)[0]\n",
    "        s_x  = tf.gradients(s_pred, x)[0]\n",
    "        s_xx = tf.gradients(s_x, x)[0]\n",
    "        f    = s_t + s_pred * s_x - 0.01 * s_xx\n",
    "        return f\n",
    "\n",
    "    def predict_s(self, u, t, x):\n",
    "        s = self.sess.run(self.operator, {self.u_r_tf: u, self.t_r_tf : t, self.x_r_tf: x})\n",
    "        return s\n",
    "\n",
    "    def predict_f(self, u, t, x):\n",
    "        s_r = self.sess.run(self.residual, {self.u_r_tf: u, self.t_r_tf : t, self.x_r_tf: x})\n",
    "        return s_r\n",
    "\n",
    "    def loss_res(self, u, t, x, s):\n",
    "        f = self.residual_net(u, t, x)\n",
    "        loss = tf.reduce_mean(tf.square(f - s))\n",
    "        return loss\n",
    "\n",
    "    def loss_ics(self, u, t, x, s):\n",
    "        s_pred = self.operator_net(u, t, x)\n",
    "        loss   =  tf.reduce_mean(tf.square(s_pred - s))\n",
    "        return loss\n",
    "\n",
    "    def loss_bcs(self, u, t1, x1, t2, x2, s):\n",
    "        s_pred_1 = self.operator_net(u, t1, x1)\n",
    "        s_pred_2 = self.operator_net(u, t2, x2)\n",
    "        s_x_1    = tf.gradients(s_pred_1, x1)[0]\n",
    "        s_x_2    = tf.gradients(s_pred_2, x2)[0]\n",
    "        loss_bc1 = tf.reduce_mean(tf.square(s_pred_1 - s_pred_2))\n",
    "        loss_bc2 = tf.reduce_mean(tf.square(s_x_1 - s_x_2))\n",
    "        return loss_bc1 + loss_bc2"
   ],
   "metadata": {
    "collapsed": false,
    "pycharm": {
     "name": "#%%\n"
    }
   }
  },
  {
   "cell_type": "code",
   "execution_count": 5,
   "outputs": [],
   "source": [
    "class DataGenerator():\n",
    "    def __init__(self, u, y, s, batch_size):\n",
    "        self.u = u\n",
    "        self.y = y\n",
    "        self.s = s\n",
    "        self.batch_size = batch_size\n",
    "\n",
    "    def get_batch(self):\n",
    "        N = self.u.shape[0]\n",
    "        # if N >= self.batch_size:\n",
    "        index = np.random.randint(0, N, self.batch_size)\n",
    "        u_ = self.u[index, :]\n",
    "        y_ = self.y[index, :]\n",
    "        s_ = self.s[index, :]\n",
    "        # else:\n",
    "        #     iter = self.batch_size // N\n",
    "        #     u_ = []\n",
    "        #     y_ = []\n",
    "        #     s_ = []\n",
    "        #     for i in range(iter):\n",
    "        #         index = np.random.randint(0, N, self.batch_size)\n",
    "        #         u = self.u[index, :]\n",
    "        #         y = self.y[index, :]\n",
    "        #         s = self.s[index, :]\n",
    "        #         u_.append(u)\n",
    "        #         y_.append(y)\n",
    "        #         s_.append(s)\n",
    "        return u_, y_, s_"
   ],
   "metadata": {
    "collapsed": false,
    "pycharm": {
     "name": "#%%\n"
    }
   }
  },
  {
   "cell_type": "code",
   "execution_count": 6,
   "outputs": [],
   "source": [
    "# Geneate ics training data\n",
    "def generate_one_ics_data(u0, m=101, P=101):\n",
    "    t_0 = np.zeros((P, 1))\n",
    "    x_0 = np.linspace(0, 1, P)[:, None]\n",
    "    y = np.hstack([t_0, x_0])         # y_shape=(P, 2)\n",
    "    u = np.tile(u0[None, :], (P, 1))  # u_shape=(P, m)\n",
    "    s = u0                            # s_shape=(m,  )\n",
    "\n",
    "    return u, y, s"
   ],
   "metadata": {
    "collapsed": false,
    "pycharm": {
     "name": "#%%\n"
    }
   }
  },
  {
   "cell_type": "code",
   "execution_count": 7,
   "outputs": [],
   "source": [
    "# Geneate bcs training data\n",
    "def generate_one_bcs_data(u0, m=101, P=101):\n",
    "    t_bc = np.random.rand(P)[:, None]\n",
    "    x_bc1 = np.zeros((P, 1))\n",
    "    x_bc2 = np.ones((P, 1))\n",
    "    y1 = np.hstack([t_bc, x_bc1])  # shape = (P, 2)\n",
    "    y2 = np.hstack([t_bc, x_bc2])  # shape = (P, 2)\n",
    "\n",
    "    u = np.tile(u0, (P, 1))        # shape = (P, m)\n",
    "    y = np.hstack([y1, y2])        # shape = (P, 4)\n",
    "    s = np.zeros((P, 1))           # shape = (P, 1)\n",
    "\n",
    "    return u, y, s"
   ],
   "metadata": {
    "collapsed": false,
    "pycharm": {
     "name": "#%%\n"
    }
   }
  },
  {
   "cell_type": "code",
   "execution_count": 8,
   "outputs": [],
   "source": [
    "# Geneate res training data\n",
    "def generate_one_res_data(u0, m=101, P=1000):\n",
    "    t_res = np.random.rand(P)[:, None]\n",
    "    x_res = np.random.rand(P)[:, None]\n",
    "\n",
    "    u = np.tile(u0, (P, 1))         # shape=(P, m)\n",
    "    y = np.hstack([t_res, x_res])   # shape=(P, 2)\n",
    "    s = np.zeros((P, 1))            # shape=(P, 1)\n",
    "\n",
    "    return u, y, s"
   ],
   "metadata": {
    "collapsed": false,
    "pycharm": {
     "name": "#%%\n"
    }
   }
  },
  {
   "cell_type": "code",
   "execution_count": 9,
   "outputs": [],
   "source": [
    "# Generate test data\n",
    "def generate_one_test_data(idx, usol, m=101, P=101):\n",
    "    u = usol[idx]\n",
    "    u0 = u[0,:]\n",
    "\n",
    "    t = np.linspace(0, 1, P)\n",
    "    x = np.linspace(0, 1, P)\n",
    "    T, X = np.meshgrid(t, x)\n",
    "\n",
    "    s = u.T.flatten()            # shape=(P**2, 1)\n",
    "    u = np.tile(u0, (P**2, 1))   # shape=(P**2, m)\n",
    "    y = np.hstack([T.flatten()[:,None], X.flatten()[:,None]]) # shape=(P**2, 2)\n",
    "\n",
    "    return u, y, s"
   ],
   "metadata": {
    "collapsed": false,
    "pycharm": {
     "name": "#%%\n"
    }
   }
  },
  {
   "cell_type": "code",
   "execution_count": 10,
   "outputs": [],
   "source": [
    "def compute_error(idx, usol, m, P, model):\n",
    "    # 生成一组测试数据，计算相对L2误差，使用jax.vmap较方便\n",
    "    u_test, y_test, s_test = generate_one_test_data(idx, usol, m, P)\n",
    "\n",
    "    u_test = u_test.reshape(P**2,-1)\n",
    "    y_test = y_test.reshape(P**2,-1)\n",
    "    s_test = s_test.reshape(P**2,-1)\n",
    "    s_pred = model.predict_s(u_test, y_test[:, 0][:, None], y_test[:, 1][:, None])\n",
    "    error = np.linalg.norm(s_test - s_pred) / np.linalg.norm(s_test)\n",
    "\n",
    "    return error\n"
   ],
   "metadata": {
    "collapsed": false,
    "pycharm": {
     "name": "#%%\n"
    }
   }
  },
  {
   "cell_type": "code",
   "execution_count": 11,
   "outputs": [],
   "source": [
    "path = './dataset/Burgers/Burger.mat'\n",
    "data = scipy.io.loadmat(path)\n",
    "usol = np.array(data['output'])\n",
    "N = usol.shape[0]  # number of total input samples\n",
    "N_train =1000      # number of input samples used for training\n",
    "N_test = N - N_train  # number of input samples used for test\n",
    "m = 101            # number of sensors for input samples\n",
    "P_ics_train = 101   # number of locations for evulating the initial condition\n",
    "P_bcs_train = 100    # number of locations for evulating the boundary condition\n",
    "P_res_train = 2500   # number of locations for evulating the PDE residual\n",
    "P_test = 101        # resolution of uniform grid for the test data"
   ],
   "metadata": {
    "collapsed": false,
    "pycharm": {
     "name": "#%%\n"
    }
   }
  },
  {
   "cell_type": "code",
   "execution_count": 12,
   "outputs": [],
   "source": [
    "# 生成数据，并将数据处理成PI_DeepONet的输入类型\n",
    "u0_train = usol[:N_train,0,:]   # input samples\n",
    "u_ics = []\n",
    "y_ics = []\n",
    "s_ics = []\n",
    "for i in range(u0_train.shape[0]):\n",
    "    u, y, s = generate_one_ics_data(u0_train[i], m, P_ics_train)\n",
    "    u_ics.append(u)\n",
    "    y_ics.append(y)\n",
    "    s_ics.append(s)\n",
    "\n",
    "u_bcs = []\n",
    "y_bcs = []\n",
    "s_bcs = []\n",
    "for i in range(u0_train.shape[0]):\n",
    "    u, y, s = generate_one_bcs_data(u0_train[i], m, P_bcs_train)\n",
    "    u_bcs.append(u)\n",
    "    y_bcs.append(y)\n",
    "    s_bcs.append(s)\n",
    "\n",
    "u_res = []\n",
    "y_res = []\n",
    "s_res = []\n",
    "for i in range(u0_train.shape[0]):\n",
    "    u, y, s = generate_one_res_data(u0_train[i], m, P_res_train)\n",
    "    u_res.append(u)\n",
    "    y_res.append(y)\n",
    "    s_res.append(s)\n",
    "u_res = np.reshape(np.array(u_res), (-1, m))\n",
    "u_ics = np.reshape(np.array(u_ics), (-1, m))\n",
    "u_bcs = np.reshape(np.array(u_bcs), (-1, m))\n",
    "y_res = np.reshape(np.array(y_res), (-1, 2))\n",
    "y_ics = np.reshape(np.array(y_ics), (-1, 2))\n",
    "y_bcs = np.reshape(np.array(y_bcs), (-1, 4))\n",
    "s_res = np.reshape(np.array(s_res), (-1, 1))\n",
    "s_ics = np.reshape(np.array(s_ics), (-1, 1))\n",
    "s_bcs = np.reshape(np.array(s_bcs), (-1, 1))\n",
    "\n",
    "batch_size = 5000\n",
    "ics_data = DataGenerator(np.array(u_ics), np.array(y_ics), np.array(s_ics), batch_size)\n",
    "bcs_data = DataGenerator(np.array(u_bcs), np.array(y_bcs), np.array(s_bcs), batch_size)\n",
    "res_data = DataGenerator(np.array(u_res), np.array(y_res), np.array(s_res), batch_size)"
   ],
   "metadata": {
    "collapsed": false,
    "pycharm": {
     "name": "#%%\n"
    }
   }
  },
  {
   "cell_type": "code",
   "execution_count": 13,
   "outputs": [
    {
     "name": "stdout",
     "output_type": "stream",
     "text": [
      "第0次 0.047073,ic 0.045896,bc 0.000901,res 0.000276\n",
      "第100次 0.045019,ic 0.043560,bc 0.001424,res 0.000036\n",
      "第200次 0.043476,ic 0.041263,bc 0.001892,res 0.000321\n",
      "第300次 0.042433,ic 0.040529,bc 0.001222,res 0.000682\n",
      "第400次 0.043587,ic 0.041179,bc 0.001256,res 0.001152\n",
      "第500次 0.043718,ic 0.041294,bc 0.001406,res 0.001019\n",
      "第600次 0.042571,ic 0.040747,bc 0.000943,res 0.000881\n",
      "第700次 0.044671,ic 0.043685,bc 0.000503,res 0.000484\n",
      "第800次 0.043761,ic 0.041577,bc 0.001256,res 0.000929\n",
      "第900次 0.042671,ic 0.039888,bc 0.001926,res 0.000856\n",
      "第1000次 0.045603,ic 0.044091,bc 0.001099,res 0.000413\n",
      "第1100次 0.043754,ic 0.041247,bc 0.001571,res 0.000935\n",
      "第1200次 0.043420,ic 0.041062,bc 0.001276,res 0.001082\n",
      "第1300次 0.043656,ic 0.042052,bc 0.001024,res 0.000581\n",
      "第1400次 0.042150,ic 0.039203,bc 0.001793,res 0.001153\n",
      "第1500次 0.044412,ic 0.041858,bc 0.001297,res 0.001258\n",
      "第1600次 0.151927,ic 0.052407,bc 0.062895,res 0.036624\n",
      "第1700次 0.042241,ic 0.039378,bc 0.001711,res 0.001152\n",
      "第1800次 0.041295,ic 0.038451,bc 0.001482,res 0.001363\n",
      "第1900次 0.041767,ic 0.039331,bc 0.001762,res 0.000674\n",
      "第2000次 0.043245,ic 0.040492,bc 0.001662,res 0.001092\n",
      "第2100次 0.041650,ic 0.038654,bc 0.001513,res 0.001484\n",
      "第2200次 0.039601,ic 0.036530,bc 0.001634,res 0.001437\n",
      "第2300次 0.043787,ic 0.042357,bc 0.001192,res 0.000239\n",
      "第2400次 0.041166,ic 0.038605,bc 0.001495,res 0.001066\n",
      "第2500次 0.042008,ic 0.039111,bc 0.001501,res 0.001395\n",
      "第2600次 0.041977,ic 0.038752,bc 0.001393,res 0.001832\n",
      "第2700次 0.041386,ic 0.038200,bc 0.001794,res 0.001392\n",
      "第2800次 0.042619,ic 0.040055,bc 0.001559,res 0.001005\n",
      "第2900次 0.044434,ic 0.036609,bc 0.005268,res 0.002557\n",
      "第3000次 0.040676,ic 0.037691,bc 0.001806,res 0.001179\n",
      "第3100次 0.041202,ic 0.038180,bc 0.001623,res 0.001399\n",
      "第3200次 0.025469,ic 0.018477,bc 0.001321,res 0.005671\n",
      "第3300次 0.012971,ic 0.007645,bc 0.000207,res 0.005119\n",
      "第3400次 0.011589,ic 0.006182,bc 0.000256,res 0.005151\n",
      "第3500次 0.012651,ic 0.006943,bc 0.000254,res 0.005453\n",
      "第3600次 0.011664,ic 0.006732,bc 0.000180,res 0.004753\n",
      "第3700次 0.011864,ic 0.006151,bc 0.000248,res 0.005466\n",
      "第3800次 0.011929,ic 0.006323,bc 0.000870,res 0.004737\n",
      "第3900次 0.011836,ic 0.006162,bc 0.000364,res 0.005311\n",
      "第4000次 0.011975,ic 0.006453,bc 0.000141,res 0.005380\n",
      "第4100次 0.011227,ic 0.006116,bc 0.000282,res 0.004829\n",
      "第4200次 0.011321,ic 0.005874,bc 0.000172,res 0.005276\n",
      "第4300次 0.011037,ic 0.005501,bc 0.000191,res 0.005345\n",
      "第4400次 0.011394,ic 0.005989,bc 0.000168,res 0.005236\n",
      "第4500次 0.011001,ic 0.005747,bc 0.000147,res 0.005107\n",
      "第4600次 0.010739,ic 0.005578,bc 0.000104,res 0.005057\n",
      "第4700次 0.010966,ic 0.005965,bc 0.000136,res 0.004865\n",
      "第4800次 0.010983,ic 0.005814,bc 0.000295,res 0.004874\n",
      "第4900次 0.011554,ic 0.005774,bc 0.000532,res 0.005248\n",
      "第5000次 0.010749,ic 0.005744,bc 0.000127,res 0.004878\n",
      "第5100次 0.011322,ic 0.006215,bc 0.000210,res 0.004897\n",
      "第5200次 0.011036,ic 0.006075,bc 0.000492,res 0.004468\n",
      "第5300次 0.010464,ic 0.005650,bc 0.000125,res 0.004689\n",
      "第5400次 0.011204,ic 0.005808,bc 0.000173,res 0.005223\n",
      "第5500次 0.011093,ic 0.005948,bc 0.000193,res 0.004951\n",
      "第5600次 0.010884,ic 0.005840,bc 0.000249,res 0.004795\n",
      "第5700次 0.010919,ic 0.005690,bc 0.000231,res 0.004998\n",
      "第5800次 0.010358,ic 0.005456,bc 0.000234,res 0.004668\n",
      "第5900次 0.010775,ic 0.005997,bc 0.000284,res 0.004494\n",
      "第6000次 0.010294,ic 0.005206,bc 0.000216,res 0.004871\n",
      "第6100次 0.010795,ic 0.005739,bc 0.000205,res 0.004851\n",
      "第6200次 0.010125,ic 0.005205,bc 0.000251,res 0.004669\n",
      "第6300次 0.010502,ic 0.005949,bc 0.000209,res 0.004343\n",
      "第6400次 0.009696,ic 0.005383,bc 0.000358,res 0.003956\n",
      "第6500次 0.009646,ic 0.005474,bc 0.000313,res 0.003859\n",
      "第6600次 0.009610,ic 0.005124,bc 0.000374,res 0.004112\n",
      "第6700次 0.009852,ic 0.005192,bc 0.000444,res 0.004217\n",
      "第6800次 0.009640,ic 0.005150,bc 0.000277,res 0.004213\n",
      "第6900次 0.009329,ic 0.004890,bc 0.000478,res 0.003961\n",
      "第7000次 0.008366,ic 0.004009,bc 0.000173,res 0.004185\n",
      "第7100次 0.008537,ic 0.004465,bc 0.000236,res 0.003837\n",
      "第7200次 0.008373,ic 0.004308,bc 0.000185,res 0.003880\n",
      "第7300次 0.007778,ic 0.003938,bc 0.000241,res 0.003599\n",
      "第7400次 0.007610,ic 0.003782,bc 0.000241,res 0.003587\n",
      "第7500次 0.007406,ic 0.003453,bc 0.000198,res 0.003755\n",
      "第7600次 0.006793,ic 0.003466,bc 0.000211,res 0.003117\n",
      "第7700次 0.006737,ic 0.003659,bc 0.000181,res 0.002896\n",
      "第7800次 0.006642,ic 0.003223,bc 0.000320,res 0.003100\n",
      "第7900次 0.006423,ic 0.003045,bc 0.000238,res 0.003140\n",
      "第8000次 0.006342,ic 0.003254,bc 0.000375,res 0.002713\n",
      "第8100次 0.006126,ic 0.003002,bc 0.000131,res 0.002994\n",
      "第8200次 0.006087,ic 0.003016,bc 0.000213,res 0.002857\n",
      "第8300次 0.006019,ic 0.002742,bc 0.000210,res 0.003066\n",
      "第8400次 0.006067,ic 0.002648,bc 0.000446,res 0.002973\n",
      "第8500次 0.005789,ic 0.002626,bc 0.000341,res 0.002823\n",
      "第8600次 0.005368,ic 0.002730,bc 0.000197,res 0.002442\n",
      "第8700次 0.005613,ic 0.002481,bc 0.000259,res 0.002873\n",
      "第8800次 0.005844,ic 0.002746,bc 0.000312,res 0.002786\n",
      "第8900次 0.005477,ic 0.002407,bc 0.000268,res 0.002802\n",
      "第9000次 0.004976,ic 0.002184,bc 0.000182,res 0.002610\n",
      "第9100次 0.005188,ic 0.002504,bc 0.000198,res 0.002486\n",
      "第9200次 0.004846,ic 0.002371,bc 0.000124,res 0.002351\n",
      "第9300次 0.004921,ic 0.002169,bc 0.000297,res 0.002455\n",
      "第9400次 0.004899,ic 0.002353,bc 0.000264,res 0.002282\n",
      "第9500次 0.004895,ic 0.002431,bc 0.000178,res 0.002287\n",
      "第9600次 0.004646,ic 0.002224,bc 0.000087,res 0.002335\n",
      "第9700次 0.004687,ic 0.002244,bc 0.000135,res 0.002308\n",
      "第9800次 0.005031,ic 0.002447,bc 0.000180,res 0.002404\n",
      "第9900次 0.004600,ic 0.002025,bc 0.000203,res 0.002373\n",
      "第10000次 0.004296,ic 0.001908,bc 0.000269,res 0.002119\n",
      "第10100次 0.004613,ic 0.002038,bc 0.000193,res 0.002382\n",
      "第10200次 0.004784,ic 0.002079,bc 0.000186,res 0.002520\n",
      "第10300次 0.004594,ic 0.001894,bc 0.000193,res 0.002507\n",
      "第10400次 0.004385,ic 0.002131,bc 0.000207,res 0.002047\n",
      "第10500次 0.004575,ic 0.001816,bc 0.000128,res 0.002631\n",
      "第10600次 0.004471,ic 0.001880,bc 0.000190,res 0.002401\n",
      "第10700次 0.004314,ic 0.001830,bc 0.000161,res 0.002323\n",
      "第10800次 0.004293,ic 0.002007,bc 0.000108,res 0.002178\n",
      "第10900次 0.004416,ic 0.002168,bc 0.000185,res 0.002063\n",
      "第11000次 0.004162,ic 0.001994,bc 0.000239,res 0.001930\n",
      "第11100次 0.004290,ic 0.001808,bc 0.000124,res 0.002358\n",
      "第11200次 0.004312,ic 0.001917,bc 0.000136,res 0.002259\n",
      "第11300次 0.004203,ic 0.001934,bc 0.000142,res 0.002127\n",
      "第11400次 0.004276,ic 0.001985,bc 0.000149,res 0.002142\n",
      "第11500次 0.004124,ic 0.001740,bc 0.000160,res 0.002223\n",
      "第11600次 0.004453,ic 0.002087,bc 0.000190,res 0.002176\n",
      "第11700次 0.004114,ic 0.001768,bc 0.000146,res 0.002200\n",
      "第11800次 0.003908,ic 0.001794,bc 0.000081,res 0.002033\n",
      "第11900次 0.004133,ic 0.002034,bc 0.000121,res 0.001978\n",
      "第12000次 0.004223,ic 0.001732,bc 0.000110,res 0.002381\n",
      "第12100次 0.003797,ic 0.001819,bc 0.000090,res 0.001889\n",
      "第12200次 0.003991,ic 0.001818,bc 0.000096,res 0.002077\n",
      "第12300次 0.004048,ic 0.001727,bc 0.000126,res 0.002194\n",
      "第12400次 0.003773,ic 0.001727,bc 0.000140,res 0.001905\n",
      "第12500次 0.003667,ic 0.001592,bc 0.000120,res 0.001955\n",
      "第12600次 0.004027,ic 0.001829,bc 0.000148,res 0.002050\n",
      "第12700次 0.003763,ic 0.001795,bc 0.000080,res 0.001888\n",
      "第12800次 0.003786,ic 0.001620,bc 0.000149,res 0.002017\n",
      "第12900次 0.003662,ic 0.001517,bc 0.000128,res 0.002016\n",
      "第13000次 0.003549,ic 0.001633,bc 0.000194,res 0.001721\n",
      "第13100次 0.003698,ic 0.001634,bc 0.000142,res 0.001922\n",
      "第13200次 0.003880,ic 0.001501,bc 0.000118,res 0.002260\n",
      "第13300次 0.003598,ic 0.001537,bc 0.000106,res 0.001955\n",
      "第13400次 0.003427,ic 0.001554,bc 0.000120,res 0.001753\n",
      "第13500次 0.003622,ic 0.001661,bc 0.000139,res 0.001822\n",
      "第13600次 0.003700,ic 0.001585,bc 0.000132,res 0.001984\n",
      "第13700次 0.003666,ic 0.001533,bc 0.000155,res 0.001978\n",
      "第13800次 0.003509,ic 0.001480,bc 0.000113,res 0.001917\n",
      "第13900次 0.003519,ic 0.001523,bc 0.000095,res 0.001901\n",
      "第14000次 0.003504,ic 0.001630,bc 0.000092,res 0.001781\n",
      "第14100次 0.003631,ic 0.001683,bc 0.000105,res 0.001843\n",
      "第14200次 0.003483,ic 0.001488,bc 0.000131,res 0.001864\n",
      "第14300次 0.003104,ic 0.001369,bc 0.000120,res 0.001615\n",
      "第14400次 0.003338,ic 0.001359,bc 0.000148,res 0.001831\n",
      "第14500次 0.003532,ic 0.001355,bc 0.000195,res 0.001981\n",
      "第14600次 0.003421,ic 0.001416,bc 0.000116,res 0.001889\n",
      "第14700次 0.003304,ic 0.001314,bc 0.000149,res 0.001841\n",
      "第14800次 0.003454,ic 0.001490,bc 0.000117,res 0.001846\n",
      "第14900次 0.003537,ic 0.001468,bc 0.000205,res 0.001864\n",
      "第15000次 0.003584,ic 0.001582,bc 0.000232,res 0.001770\n",
      "第15100次 0.003465,ic 0.001448,bc 0.000111,res 0.001906\n",
      "第15200次 0.003139,ic 0.001451,bc 0.000073,res 0.001615\n",
      "第15300次 0.003195,ic 0.001322,bc 0.000084,res 0.001789\n",
      "第15400次 0.003286,ic 0.001424,bc 0.000139,res 0.001723\n",
      "第15500次 0.003001,ic 0.001285,bc 0.000137,res 0.001579\n",
      "第15600次 0.003376,ic 0.001393,bc 0.000113,res 0.001870\n",
      "第15700次 0.003129,ic 0.001398,bc 0.000073,res 0.001657\n",
      "第15800次 0.002971,ic 0.001333,bc 0.000129,res 0.001510\n",
      "第15900次 0.003372,ic 0.001376,bc 0.000107,res 0.001888\n",
      "第16000次 0.003240,ic 0.001463,bc 0.000067,res 0.001710\n",
      "第16100次 0.003337,ic 0.001267,bc 0.000198,res 0.001872\n",
      "第16200次 0.003077,ic 0.001340,bc 0.000110,res 0.001626\n",
      "第16300次 0.003087,ic 0.001397,bc 0.000089,res 0.001601\n",
      "第16400次 0.003419,ic 0.001379,bc 0.000452,res 0.001589\n",
      "第16500次 0.003038,ic 0.001326,bc 0.000161,res 0.001550\n",
      "第16600次 0.003019,ic 0.001348,bc 0.000108,res 0.001563\n",
      "第16700次 0.003012,ic 0.001482,bc 0.000091,res 0.001439\n",
      "第16800次 0.002987,ic 0.001293,bc 0.000095,res 0.001599\n",
      "第16900次 0.002986,ic 0.001310,bc 0.000128,res 0.001548\n",
      "第17000次 0.002940,ic 0.001358,bc 0.000117,res 0.001465\n",
      "第17100次 0.003063,ic 0.001116,bc 0.000173,res 0.001774\n",
      "第17200次 0.002951,ic 0.001293,bc 0.000099,res 0.001559\n",
      "第17300次 0.002793,ic 0.001114,bc 0.000093,res 0.001586\n",
      "第17400次 0.002912,ic 0.001326,bc 0.000099,res 0.001487\n",
      "第17500次 0.003042,ic 0.001289,bc 0.000063,res 0.001690\n",
      "第17600次 0.002783,ic 0.001127,bc 0.000104,res 0.001552\n",
      "第17700次 0.002835,ic 0.001329,bc 0.000085,res 0.001421\n",
      "第17800次 0.002759,ic 0.001223,bc 0.000119,res 0.001416\n",
      "第17900次 0.002793,ic 0.001312,bc 0.000126,res 0.001355\n",
      "第18000次 0.002929,ic 0.001261,bc 0.000093,res 0.001576\n",
      "第18100次 0.002788,ic 0.001132,bc 0.000075,res 0.001581\n",
      "第18200次 0.002701,ic 0.001252,bc 0.000077,res 0.001372\n",
      "第18300次 0.002748,ic 0.001056,bc 0.000190,res 0.001502\n",
      "第18400次 0.002929,ic 0.001270,bc 0.000087,res 0.001572\n",
      "第18500次 0.002843,ic 0.001338,bc 0.000127,res 0.001378\n",
      "第18600次 0.002604,ic 0.001312,bc 0.000106,res 0.001186\n",
      "第18700次 0.002577,ic 0.001096,bc 0.000074,res 0.001407\n",
      "第18800次 0.002707,ic 0.001196,bc 0.000074,res 0.001437\n",
      "第18900次 0.002990,ic 0.001162,bc 0.000151,res 0.001678\n",
      "第19000次 0.002692,ic 0.001206,bc 0.000102,res 0.001384\n",
      "第19100次 0.002786,ic 0.001248,bc 0.000102,res 0.001436\n",
      "第19200次 0.002794,ic 0.001201,bc 0.000078,res 0.001515\n",
      "第19300次 0.002607,ic 0.001066,bc 0.000091,res 0.001450\n",
      "第19400次 0.002613,ic 0.001216,bc 0.000089,res 0.001308\n",
      "第19500次 0.002553,ic 0.001146,bc 0.000093,res 0.001314\n",
      "第19600次 0.002724,ic 0.001122,bc 0.000074,res 0.001528\n",
      "第19700次 0.002659,ic 0.001224,bc 0.000138,res 0.001297\n",
      "第19800次 0.002515,ic 0.001117,bc 0.000084,res 0.001314\n",
      "第19900次 0.002291,ic 0.001071,bc 0.000102,res 0.001118\n",
      "第20000次的损失为0.002582\n",
      "最终lr为0.000122\n",
      "Training time: 7064.3029\n"
     ]
    }
   ],
   "source": [
    "lr = 1e-3\n",
    "branch_layers = [m, 100, 100, 100, 100, 100, 100, 100]\n",
    "trunk_layers =  [2, 100, 100, 100, 100, 100, 100, 100]\n",
    "pi_deeponet_tanh = PI_DeepONet(m, ics_data, bcs_data, res_data, branch_layers, trunk_layers, lr, tf.tanh)\n",
    "start_time = time.time()\n",
    "pi_deeponet_tanh.train(max_iter=20000)\n",
    "elapsed = time.time() - start_time\n",
    "print('Training time: %.4f' % (elapsed))"
   ],
   "metadata": {
    "collapsed": false,
    "pycharm": {
     "name": "#%%\n"
    }
   }
  },
  {
   "cell_type": "code",
   "execution_count": 51,
   "outputs": [
    {
     "name": "stdout",
     "output_type": "stream",
     "text": [
      "0.12282429842546168\n"
     ]
    }
   ],
   "source": [
    "error = []\n",
    "for idx in range(N_train, N):\n",
    "    error.append(compute_error(idx, usol, m, P_test, pi_deeponet_tanh))\n",
    "error = np.array(error)\n",
    "print(error.mean())"
   ],
   "metadata": {
    "collapsed": false,
    "pycharm": {
     "name": "#%%\n"
    }
   }
  },
  {
   "cell_type": "code",
   "execution_count": 33,
   "outputs": [],
   "source": [
    "u = usol[1400]\n",
    "u0 = u[0,:]\n",
    "\n",
    "t = np.linspace(0, 1, P_test)\n",
    "x = np.linspace(0, 1, P_test)\n",
    "T, X = np.meshgrid(t, x)\n",
    "\n",
    "s = u.T.flatten()\n",
    "u = np.tile(u0, (P_test**2, 1))\n",
    "y = np.hstack([T.flatten()[:,None], X.flatten()[:,None]])\n"
   ],
   "metadata": {
    "collapsed": false,
    "pycharm": {
     "name": "#%%\n"
    }
   }
  },
  {
   "cell_type": "code",
   "execution_count": 65,
   "outputs": [
    {
     "data": {
      "text/plain": "<Figure size 432x360 with 1 Axes>",
      "image/png": "[encoded data removed]"
     },
     "metadata": {
      "needs_background": "light"
     },
     "output_type": "display_data"
    }
   ],
   "source": [
    "# Plot for loss function\n",
    "plt.figure(figsize = (6,5))\n",
    "# plt.plot(model.loss_log, lw=2)\n",
    "plt.plot(pi_deeponet_tanh.loss_ics_log, lw=2, label='ics')\n",
    "plt.plot(pi_deeponet_tanh.loss_bcs_log, lw=2, label='bcs')\n",
    "plt.plot(pi_deeponet_tanh.loss_res_log, lw=2, label='res')\n",
    "plt.xlabel('Iteration')\n",
    "plt.ylabel('Loss')\n",
    "plt.yscale('log')\n",
    "plt.legend()\n",
    "plt.tight_layout()\n",
    "plt.savefig('loss.pdf')\n",
    "plt.show()"
   ],
   "metadata": {
    "collapsed": false,
    "pycharm": {
     "name": "#%%\n"
    }
   }
  },
  {
   "cell_type": "code",
   "execution_count": 63,
   "outputs": [
    {
     "name": "stdout",
     "output_type": "stream",
     "text": [
      "error_s: 9.512e-02\n"
     ]
    },
    {
     "data": {
      "text/plain": "<Figure size 432x360 with 2 Axes>",
      "image/png": "[encoded data removed]"
     },
     "metadata": {
      "needs_background": "light"
     },
     "output_type": "display_data"
    },
    {
     "data": {
      "text/plain": "<Figure size 432x360 with 2 Axes>",
      "image/png": "[encoded data removed]"
     },
     "metadata": {
      "needs_background": "light"
     },
     "output_type": "display_data"
    },
    {
     "data": {
      "text/plain": "<Figure size 432x360 with 2 Axes>",
      "image/png": "[encoded data removed]"
     },
     "metadata": {
      "needs_background": "light"
     },
     "output_type": "display_data"
    }
   ],
   "source": [
    "# Plot for one generated data\n",
    "k = 1833 # index\n",
    "u = usol[k,:, :]\n",
    "u0 = usol[k,0,:]\n",
    "\n",
    "P_test = 101\n",
    "\n",
    "t = np.linspace(0, 1, P_test)\n",
    "x = np.linspace(0, 1, P_test)\n",
    "T, X = np.meshgrid(t, x)\n",
    "\n",
    "u_test = np.tile(u0, (P_test**2, 1))\n",
    "y_test = np.hstack([T.flatten()[:,None], X.flatten()[:,None]])\n",
    "s_test = u.flatten()[:,None]\n",
    "\n",
    "s_pred = pi_deeponet_tanh.predict_s(u_test, y_test[:, 0][:, None], y_test[:, 1][:, None])\n",
    "S_pred = griddata(y_test, s_pred.flatten(), (T, X), method='cubic')\n",
    "\n",
    "error_s = np.linalg.norm(u - S_pred.T, 2) / np.linalg.norm(u, 2)\n",
    "\n",
    "print(\"error_s: {:.3e}\".format(error_s))\n",
    "\n",
    "fig = plt.figure(figsize=(6,5))\n",
    "plt.pcolor(T, X, u, cmap='jet')\n",
    "plt.xlabel('$x$')\n",
    "plt.ylabel('$t$')\n",
    "plt.title('Exact $s(x,t)$')\n",
    "plt.colorbar()\n",
    "plt.tight_layout()\n",
    "plt.savefig('Exact s.pdf')\n",
    "\n",
    "fig = plt.figure(figsize=(6,5))\n",
    "plt.pcolor(T, X, S_pred.T, cmap='jet')\n",
    "plt.xlabel('$x$')\n",
    "plt.ylabel('$t$')\n",
    "plt.title('Predict $s(x,t)$')\n",
    "plt.colorbar()\n",
    "plt.tight_layout()\n",
    "plt.savefig('Pred s.pdf')\n",
    "\n",
    "fig = plt.figure(figsize=(6,5))\n",
    "plt.pcolor(T, X, np.abs(S_pred.T - u), cmap='jet')\n",
    "plt.xlabel('$x$')\n",
    "plt.ylabel('$t$')\n",
    "plt.title('Absolute error')\n",
    "plt.colorbar()\n",
    "plt.tight_layout()\n",
    "plt.savefig('Absolute error.pdf')\n",
    "plt.show()"
   ],
   "metadata": {
    "collapsed": false,
    "pycharm": {
     "name": "#%%\n"
    }
   }
  },
  {
   "cell_type": "code",
   "execution_count": null,
   "outputs": [],
   "source": [
    "lr = 1e-3\n",
    "branch_layers = [m, 100, 100, 100, 100, 100, 100, 100]\n",
    "trunk_layers =  [2, 100, 100, 100, 100, 100, 100, 100]\n",
    "pi_deeponet_relu = PI_DeepONet(m, ics_data, bcs_data, res_data, branch_layers, trunk_layers, lr, tf.nn.relu)\n",
    "start_time = time.time()\n",
    "pi_deeponet_relu.train(max_iter=20000)\n",
    "elapsed = time.time() - start_time\n",
    "print('Training time: %.4f' % (elapsed))"
   ],
   "metadata": {
    "collapsed": false,
    "pycharm": {
     "name": "#%%\n"
    }
   }
  }
 ],
 "metadata": {
  "kernelspec": {
   "display_name": "Python 3",
   "language": "python",
   "name": "python3"
  },
  "language_info": {
   "codemirror_mode": {
    "name": "ipython",
    "version": 2
   },
   "file_extension": ".py",
   "mimetype": "text/x-python",
   "name": "python",
   "nbconvert_exporter": "python",
   "pygments_lexer": "ipython2",
   "version": "2.7.6"
  }
 },
 "nbformat": 4,
 "nbformat_minor": 0
}