{
 "cells": [
  {
   "cell_type": "code",
   "execution_count": 2,
   "outputs": [],
   "source": [
    "import tensorflow as tf\n",
    "import numpy as np\n",
    "import matplotlib.pyplot as plt\n",
    "import time\n",
    "import scipy.io\n",
    "from scipy.interpolate import griddata\n",
    "import warnings\n",
    "warnings.filterwarnings(\"ignore\")\n",
    "warnings.simplefilter('ignore')"
   ],
   "metadata": {
    "collapsed": false,
    "pycharm": {
     "name": "#%%\n"
    }
   }
  },
  {
   "cell_type": "code",
   "execution_count": 3,
   "outputs": [],
   "source": [
    "np.random.seed(1234)\n",
    "tf.set_random_seed(1234)"
   ],
   "metadata": {
    "collapsed": false,
    "pycharm": {
     "name": "#%%\n"
    }
   }
  },
  {
   "cell_type": "code",
   "execution_count": 4,
   "outputs": [],
   "source": [
    "class gPI_DeepONet:\n",
    "    def __init__(self, m, ics_data, bcs_data, res_data, branch_layer, trunk_layer, lr, activation):\n",
    "        self.m = m\n",
    "        self.ics_data = ics_data\n",
    "        self.bcs_data = bcs_data\n",
    "        self.res_data = res_data\n",
    "        self.activation = activation\n",
    "        self.loss_log = []\n",
    "        self.loss_res_log = []\n",
    "        self.loss_ics_log = []\n",
    "        self.loss_bcs_log = []\n",
    "        self.loss_origin_log = []\n",
    "        self.loss_deriv1_log = []\n",
    "\n",
    "        self.branch_layer = branch_layer\n",
    "        self.trunk_layer  = trunk_layer\n",
    "\n",
    "        self.sess = tf.Session()\n",
    "        self.branch_weights, self.branch_biases = self.initilize_NN(branch_layer)\n",
    "        self.trunk_weights, self.trunk_biases   = self.initilize_NN(trunk_layer)\n",
    "        self.bias = tf.Variable(tf.zeros([1], dtype=tf.float32), dtype=tf.float32)\n",
    "        # initial condition\n",
    "        self.u_i_tf  = tf.placeholder(tf.float32, shape=[None, self.m])\n",
    "        self.t_i_tf  = tf.placeholder(tf.float32, shape=[None, 1])\n",
    "        self.x_i_tf  = tf.placeholder(tf.float32, shape=[None, 1])\n",
    "        self.s_i_tf  = tf.placeholder(tf.float32, shape=[None, 1])\n",
    "        # boundary condition\n",
    "        self.u_b_tf  = tf.placeholder(tf.float32, shape=[None, self.m])\n",
    "        self.t1_b_tf = tf.placeholder(tf.float32, shape=[None, 1])\n",
    "        self.x1_b_tf = tf.placeholder(tf.float32, shape=[None, 1])\n",
    "        self.t2_b_tf = tf.placeholder(tf.float32, shape=[None, 1])\n",
    "        self.x2_b_tf = tf.placeholder(tf.float32, shape=[None, 1])\n",
    "        self.s_b_tf  = tf.placeholder(tf.float32, shape=[None, 1])\n",
    "        # collocation points\n",
    "        self.u_r_tf  = tf.placeholder(tf.float32, shape=[None, self.m])\n",
    "        self.t_r_tf  = tf.placeholder(tf.float32, shape=[None, 1])\n",
    "        self.x_r_tf  = tf.placeholder(tf.float32, shape=[None, 1])\n",
    "        self.s_r_tf  = tf.placeholder(tf.float32, shape=[None, 1])\n",
    "\n",
    "        self.operator = self.operator_net(self.u_r_tf, self.t_r_tf, self.x_r_tf)\n",
    "        self.residual = self.residual_net(self.u_r_tf, self.t_r_tf, self.x_r_tf)\n",
    "        self.s_r      = self.loss_res(self.u_r_tf, self.t_r_tf, self.x_r_tf, self.s_r_tf)\n",
    "        self.s_i      = self.loss_ics(self.u_i_tf, self.t_i_tf, self.x_i_tf, self.s_i_tf)\n",
    "        self.s_b      = self.loss_bcs(self.u_b_tf, self.t1_b_tf, self.x1_b_tf,\n",
    "                                      self.t2_b_tf, self.x2_b_tf, self.s_b_tf)\n",
    "        self.loss_origin = self.s_r + self.s_i + self.s_b\n",
    "        # gPINN\n",
    "        self.w_x = 0.1\n",
    "        self.w_t = 0.1\n",
    "        self.loss_deriv1 = self.get_loss_deriv1(self.s_r, self.x_r_tf, self.t_r_tf, self.w_x, self.w_t)\n",
    "        self.loss = self.loss_origin + self.loss_deriv1\n",
    "\n",
    "        steps_per_decay = 1000\n",
    "        decay_factor = 0.9\n",
    "        self.global_step = tf.Variable(0, trainable=False)\n",
    "        self.lr = tf.train.exponential_decay(learning_rate = lr,\n",
    "                                           global_step = self.global_step,\n",
    "                                           decay_steps = steps_per_decay,\n",
    "                                           decay_rate = decay_factor,\n",
    "                                           staircase = True\n",
    "                                           )\n",
    "        self.optimizer = tf.train.AdamOptimizer(learning_rate=self.lr).minimize(self.loss,\n",
    "                                            global_step=self.global_step)\n",
    "        init = tf.global_variables_initializer()\n",
    "        self.sess.run(init)\n",
    "\n",
    "    def callback(self, loss, sr, si, sb):\n",
    "        print('Loss:%f,ic:%f,bc:%f,res:%f'%(loss, si, sb, sr))\n",
    "\n",
    "    def initilize_NN(self, layers):\n",
    "        weights = []\n",
    "        biases  = []\n",
    "        num_layers = len(layers)\n",
    "        for l in range(0, num_layers - 1):\n",
    "            W = self.xavier_init(size=[layers[l], layers[l+1]])\n",
    "            b = tf.Variable(tf.zeros([1,layers[l+1]], dtype=tf.float32), dtype=tf.float32)\n",
    "            weights.append(W)\n",
    "            biases.append(b)\n",
    "        return weights, biases\n",
    "\n",
    "    def xavier_init(self, size):\n",
    "        in_dim = size[0]\n",
    "        out_dim = size[1]\n",
    "        xavier_stddev = np.sqrt(2/(in_dim + out_dim))\n",
    "        return tf.Variable(tf.truncated_normal([in_dim, out_dim], stddev=xavier_stddev), dtype=tf.float32)\n",
    "\n",
    "    def neural_net(self, X, weights, biases, activation):\n",
    "        num_layers = len(weights) + 1\n",
    "        H = X\n",
    "        for l in range(0, num_layers - 2):\n",
    "            W = weights[l]\n",
    "            b = biases[l]\n",
    "            H = activation(tf.add(tf.matmul(H, W), b))\n",
    "        W = weights[-1]\n",
    "        b = biases[-1]\n",
    "        Y = tf.add(tf.matmul(H, W), b)\n",
    "        return Y\n",
    "\n",
    "    def train(self, max_iter=40000, batch_size=50):\n",
    "        loss_value = np.inf\n",
    "        for iter in range(max_iter):\n",
    "            self.sess.run(self.global_step)\n",
    "            u_i, y_i, s_i = self.ics_data.get_batch()\n",
    "            u_b, y_b, s_b = self.bcs_data.get_batch()\n",
    "            u_r, y_r, s_r = self.res_data.get_batch()\n",
    "            tf_dict = {\n",
    "                self.u_r_tf  : u_r,\n",
    "                self.t_r_tf  : y_r[:, 0][:, None],\n",
    "                self.x_r_tf  : y_r[:, 1][:, None],\n",
    "                self.s_r_tf  : s_r,\n",
    "                self.u_i_tf  : u_i,\n",
    "                self.t_i_tf  : y_i[:, 0][:, None],\n",
    "                self.x_i_tf  : y_i[:, 1][:, None],\n",
    "                self.s_i_tf  : s_i,\n",
    "                self.u_b_tf  : u_b,\n",
    "                self.t1_b_tf : y_b[:, 0][:, None],\n",
    "                self.x1_b_tf : y_b[:, 1][:, None],\n",
    "                self.t2_b_tf : y_b[:, 2][:, None],\n",
    "                self.x2_b_tf : y_b[:, 3][:, None],\n",
    "                self.s_b_tf  : s_b\n",
    "            }\n",
    "            _, loss_value, si, sb, sr, sori, sd1 = self.sess.run([self.optimizer,\n",
    "                self.loss, self.s_i, self.s_b, self.s_r, self.loss_origin, self.loss_deriv1], tf_dict)\n",
    "            self.loss_res_log.append(sr)\n",
    "            self.loss_bcs_log.append(sb)\n",
    "            self.loss_ics_log.append(si)\n",
    "            self.loss_log.append(loss_value)\n",
    "            self.loss_origin_log.append(sori)\n",
    "            self.loss_deriv1_log.append(sd1)\n",
    "            self.sess.run(self.lr)\n",
    "            if iter % 100 == 0:\n",
    "                print(\"第%d次 %f,ic %f,bc %f,res %f\"%(iter, loss_value, si, sb, sr))\n",
    "                # print(\"第%d次 %f\"%(iter, loss_value))\n",
    "        print(\"第%d次的损失为%f\"%(max_iter, loss_value))\n",
    "        print(\"最终lr为%f\"%(self.sess.run(self.lr)))\n",
    "\n",
    "    def operator_net(self, u, t, x):\n",
    "        branch_out = self.neural_net(u, self.branch_weights, self.branch_biases, self.activation)\n",
    "        trunk_out  = self.neural_net(tf.concat([t, x], 1), self.trunk_weights, self.trunk_biases, self.activation)\n",
    "        s = tf.reshape(tf.reduce_sum(tf.multiply(branch_out, trunk_out),\n",
    "                     axis=1) + self.bias, [-1, 1])\n",
    "        return s\n",
    "\n",
    "    def residual_net(self, u, t, x):\n",
    "        s_pred = self.operator_net(u, t, x)\n",
    "        s_t  = tf.gradients(s_pred, t)[0]\n",
    "        s_x  = tf.gradients(s_pred, x)[0]\n",
    "        s_xx = tf.gradients(s_x, x)[0]\n",
    "        f    = s_t + s_pred * s_x - 0.01 * s_xx\n",
    "        return f\n",
    "\n",
    "    def predict_s(self, u, t, x):\n",
    "        s = self.sess.run(self.operator, {self.u_r_tf: u, self.t_r_tf : t, self.x_r_tf: x})\n",
    "        return s\n",
    "\n",
    "    def predict_f(self, u, t, x):\n",
    "        s_r = self.sess.run(self.residual, {self.u_r_tf: u, self.t_r_tf : t, self.x_r_tf: x})\n",
    "        return s_r\n",
    "\n",
    "    def loss_res(self, u, t, x, s):\n",
    "        f = self.residual_net(u, t, x)\n",
    "        loss = tf.reduce_mean(tf.square(f - s))\n",
    "        return loss\n",
    "\n",
    "    def loss_ics(self, u, t, x, s):\n",
    "        s_pred = self.operator_net(u, t, x)\n",
    "        loss   =  tf.reduce_mean(tf.square(s_pred - s))\n",
    "        return loss\n",
    "\n",
    "    def loss_bcs(self, u, t1, x1, t2, x2, s):\n",
    "        s_pred_1 = self.operator_net(u, t1, x1)\n",
    "        s_pred_2 = self.operator_net(u, t2, x2)\n",
    "        s_x_1    = tf.gradients(s_pred_1, x1)[0]\n",
    "        s_x_2    = tf.gradients(s_pred_2, x2)[0]\n",
    "        loss_bc1 = tf.reduce_mean(tf.square(s_pred_1 - s_pred_2))\n",
    "        loss_bc2 = tf.reduce_mean(tf.square(s_x_1 - s_x_2))\n",
    "        return loss_bc1 + loss_bc2\n",
    "\n",
    "    def get_loss_deriv1(self, r, x_r, t_r, w_x, w_t):\n",
    "        loss_r_x = tf.reduce_mean(tf.gradients(r, x_r)[0])\n",
    "        loss_r_t = tf.reduce_mean(tf.gradients(r, t_r)[0])\n",
    "        return w_x * loss_r_x + w_t * loss_r_t"
   ],
   "metadata": {
    "collapsed": false,
    "pycharm": {
     "name": "#%%\n"
    }
   }
  },
  {
   "cell_type": "code",
   "execution_count": 5,
   "outputs": [],
   "source": [
    "class DataGenerator():\n",
    "    def __init__(self, u, y, s, batch_size):\n",
    "        self.u = u\n",
    "        self.y = y\n",
    "        self.s = s\n",
    "        self.batch_size = batch_size\n",
    "\n",
    "    def get_batch(self):\n",
    "        N = self.u.shape[0]\n",
    "        index = np.random.randint(0, N, self.batch_size)\n",
    "        u_ = self.u[index, :]\n",
    "        y_ = self.y[index, :]\n",
    "        s_ = self.s[index, :]\n",
    "        return u_, y_, s_"
   ],
   "metadata": {
    "collapsed": false,
    "pycharm": {
     "name": "#%%\n"
    }
   }
  },
  {
   "cell_type": "code",
   "execution_count": 6,
   "outputs": [],
   "source": [
    "# Geneate ics training data\n",
    "def generate_one_ics_data(u0, m=101, P=101):\n",
    "    t_0 = np.zeros((P, 1))\n",
    "    x_0 = np.linspace(0, 1, P)[:, None]\n",
    "    y = np.hstack([t_0, x_0])         # y_shape=(P, 2)\n",
    "    u = np.tile(u0[None, :], (P, 1))  # u_shape=(P, m)\n",
    "    s = u0                            # s_shape=(m,  )\n",
    "\n",
    "    return u, y, s"
   ],
   "metadata": {
    "collapsed": false,
    "pycharm": {
     "name": "#%%\n"
    }
   }
  },
  {
   "cell_type": "code",
   "execution_count": 7,
   "outputs": [],
   "source": [
    "# Geneate bcs training data\n",
    "def generate_one_bcs_data(u0, m=101, P=101):\n",
    "    t_bc = np.random.rand(P)[:, None]\n",
    "    x_bc1 = np.zeros((P, 1))\n",
    "    x_bc2 = np.ones((P, 1))\n",
    "    y1 = np.hstack([t_bc, x_bc1])  # shape = (P, 2)\n",
    "    y2 = np.hstack([t_bc, x_bc2])  # shape = (P, 2)\n",
    "\n",
    "    u = np.tile(u0, (P, 1))        # shape = (P, m)\n",
    "    y = np.hstack([y1, y2])        # shape = (P, 4)\n",
    "    s = np.zeros((P, 1))           # shape = (P, 1)\n",
    "\n",
    "    return u, y, s"
   ],
   "metadata": {
    "collapsed": false,
    "pycharm": {
     "name": "#%%\n"
    }
   }
  },
  {
   "cell_type": "code",
   "execution_count": 8,
   "outputs": [],
   "source": [
    "# Geneate res training data\n",
    "def generate_one_res_data(u0, m=101, P=1000):\n",
    "    t_res = np.random.rand(P)[:, None]\n",
    "    x_res = np.random.rand(P)[:, None]\n",
    "\n",
    "    u = np.tile(u0, (P, 1))         # shape=(P, m)\n",
    "    y = np.hstack([t_res, x_res])   # shape=(P, 2)\n",
    "    s = np.zeros((P, 1))            # shape=(P, 1)\n",
    "\n",
    "    return u, y, s"
   ],
   "metadata": {
    "collapsed": false,
    "pycharm": {
     "name": "#%%\n"
    }
   }
  },
  {
   "cell_type": "code",
   "execution_count": 9,
   "outputs": [],
   "source": [
    "# Generate test data\n",
    "def generate_one_test_data(idx, usol, m=101, P=101):\n",
    "    u = usol[idx]\n",
    "    u0 = u[0,:]\n",
    "\n",
    "    t = np.linspace(0, 1, P)\n",
    "    x = np.linspace(0, 1, P)\n",
    "    T, X = np.meshgrid(t, x)\n",
    "\n",
    "    s = u.T.flatten()            # shape=(P**2, 1)\n",
    "    u = np.tile(u0, (P**2, 1))   # shape=(P**2, m)\n",
    "    y = np.hstack([T.flatten()[:,None], X.flatten()[:,None]]) # shape=(P**2, 2)\n",
    "\n",
    "    return u, y, s"
   ],
   "metadata": {
    "collapsed": false,
    "pycharm": {
     "name": "#%%\n"
    }
   }
  },
  {
   "cell_type": "code",
   "execution_count": 10,
   "outputs": [],
   "source": [
    "def compute_error(idx, usol, m, P, model):\n",
    "    # 生成一组测试数据，计算相对L2误差，使用jax.vmap较方便\n",
    "    u_test, y_test, s_test = generate_one_test_data(idx, usol, m, P)\n",
    "\n",
    "    u_test = u_test.reshape(P**2,-1)\n",
    "    y_test = y_test.reshape(P**2,-1)\n",
    "    s_test = s_test.reshape(P**2,-1)\n",
    "    s_pred = model.predict_s(u_test, y_test[:, 0][:, None], y_test[:, 1][:, None])\n",
    "    error = np.linalg.norm(s_test - s_pred) / np.linalg.norm(s_test)\n",
    "\n",
    "    return error\n"
   ],
   "metadata": {
    "collapsed": false,
    "pycharm": {
     "name": "#%%\n"
    }
   }
  },
  {
   "cell_type": "code",
   "execution_count": 11,
   "outputs": [],
   "source": [
    "path = './Burgers/Burger.mat'\n",
    "data = scipy.io.loadmat(path)\n",
    "usol = np.array(data['output'])\n",
    "N = usol.shape[0]  # number of total input samples\n",
    "N_train =1000      # number of input samples used for training\n",
    "N_test = N - N_train  # number of input samples used for test\n",
    "m = 101            # number of sensors for input samples\n",
    "P_ics_train = 101   # number of locations for evulating the initial condition\n",
    "P_bcs_train = 100    # number of locations for evulating the boundary condition\n",
    "P_res_train = 2500   # number of locations for evulating the PDE residual\n",
    "P_test = 101        # resolution of uniform grid for the test data"
   ],
   "metadata": {
    "collapsed": false,
    "pycharm": {
     "name": "#%%\n"
    }
   }
  },
  {
   "cell_type": "code",
   "execution_count": 12,
   "outputs": [],
   "source": [
    "# 生成数据，并将数据处理成PI_DeepONet的输入类型\n",
    "u0_train = usol[:N_train,0,:]   # input samples\n",
    "u_ics = []\n",
    "y_ics = []\n",
    "s_ics = []\n",
    "for i in range(u0_train.shape[0]):\n",
    "    u, y, s = generate_one_ics_data(u0_train[i], m, P_ics_train)\n",
    "    u_ics.append(u)\n",
    "    y_ics.append(y)\n",
    "    s_ics.append(s)\n",
    "\n",
    "u_bcs = []\n",
    "y_bcs = []\n",
    "s_bcs = []\n",
    "for i in range(u0_train.shape[0]):\n",
    "    u, y, s = generate_one_bcs_data(u0_train[i], m, P_bcs_train)\n",
    "    u_bcs.append(u)\n",
    "    y_bcs.append(y)\n",
    "    s_bcs.append(s)\n",
    "\n",
    "u_res = []\n",
    "y_res = []\n",
    "s_res = []\n",
    "for i in range(u0_train.shape[0]):\n",
    "    u, y, s = generate_one_res_data(u0_train[i], m, P_res_train)\n",
    "    u_res.append(u)\n",
    "    y_res.append(y)\n",
    "    s_res.append(s)\n",
    "u_res = np.reshape(np.array(u_res), (-1, m))\n",
    "u_ics = np.reshape(np.array(u_ics), (-1, m))\n",
    "u_bcs = np.reshape(np.array(u_bcs), (-1, m))\n",
    "y_res = np.reshape(np.array(y_res), (-1, 2))\n",
    "y_ics = np.reshape(np.array(y_ics), (-1, 2))\n",
    "y_bcs = np.reshape(np.array(y_bcs), (-1, 4))\n",
    "s_res = np.reshape(np.array(s_res), (-1, 1))\n",
    "s_ics = np.reshape(np.array(s_ics), (-1, 1))\n",
    "s_bcs = np.reshape(np.array(s_bcs), (-1, 1))\n",
    "\n",
    "batch_size = 5000\n",
    "ics_data = DataGenerator(np.array(u_ics), np.array(y_ics), np.array(s_ics), batch_size)\n",
    "bcs_data = DataGenerator(np.array(u_bcs), np.array(y_bcs), np.array(s_bcs), batch_size)\n",
    "res_data = DataGenerator(np.array(u_res), np.array(y_res), np.array(s_res), batch_size)"
   ],
   "metadata": {
    "collapsed": false,
    "pycharm": {
     "name": "#%%\n"
    }
   }
  },
  {
   "cell_type": "code",
   "execution_count": 13,
   "outputs": [
    {
     "name": "stdout",
     "output_type": "stream",
     "text": [
      "第0次 0.047073,ic 0.045896,bc 0.000901,res 0.000276\n",
      "第100次 0.045019,ic 0.043560,bc 0.001424,res 0.000036\n",
      "第200次 0.043476,ic 0.041262,bc 0.001893,res 0.000321\n",
      "第300次 0.042430,ic 0.040522,bc 0.001226,res 0.000683\n",
      "第400次 0.043561,ic 0.041166,bc 0.001266,res 0.001129\n",
      "第500次 0.043705,ic 0.041286,bc 0.001381,res 0.001038\n",
      "第600次 0.042514,ic 0.040174,bc 0.001255,res 0.001085\n",
      "第700次 0.043896,ic 0.041362,bc 0.001737,res 0.000797\n",
      "第800次 0.043666,ic 0.041010,bc 0.001582,res 0.001075\n",
      "第900次 0.043226,ic 0.039603,bc 0.002869,res 0.000754\n",
      "第1000次 0.044630,ic 0.040980,bc 0.002558,res 0.001092\n",
      "第1100次 0.042572,ic 0.039624,bc 0.001631,res 0.001318\n",
      "第1200次 0.045615,ic 0.044011,bc 0.000624,res 0.000979\n",
      "第1300次 0.043105,ic 0.042021,bc 0.000652,res 0.000431\n",
      "第1400次 0.041498,ic 0.038959,bc 0.002060,res 0.000479\n",
      "第1500次 0.215409,ic 0.092699,bc 0.077307,res 0.045405\n",
      "第1600次 0.028054,ic 0.017617,bc 0.006786,res 0.003651\n",
      "第1700次 0.012870,ic 0.007741,bc 0.000237,res 0.004893\n",
      "第1800次 0.011877,ic 0.006635,bc 0.000234,res 0.005008\n",
      "第1900次 0.011915,ic 0.006636,bc 0.000157,res 0.005122\n",
      "第2000次 0.012245,ic 0.007186,bc 0.000229,res 0.004830\n",
      "第2100次 0.011488,ic 0.006669,bc 0.000116,res 0.004703\n",
      "第2200次 0.011605,ic 0.006376,bc 0.000134,res 0.005095\n",
      "第2300次 0.011503,ic 0.006698,bc 0.000146,res 0.004658\n",
      "第2400次 0.011596,ic 0.006262,bc 0.000161,res 0.005174\n",
      "第2500次 0.011485,ic 0.006623,bc 0.000088,res 0.004774\n",
      "第2600次 0.012644,ic 0.006922,bc 0.000233,res 0.005490\n",
      "第2700次 0.011867,ic 0.006145,bc 0.000253,res 0.005469\n",
      "第2800次 0.012105,ic 0.006358,bc 0.000099,res 0.005648\n",
      "第2900次 0.011589,ic 0.006361,bc 0.000246,res 0.004982\n",
      "第3000次 0.011462,ic 0.005861,bc 0.000462,res 0.005140\n",
      "第3100次 0.012092,ic 0.006745,bc 0.000296,res 0.005051\n",
      "第3200次 0.011311,ic 0.006252,bc 0.000161,res 0.004898\n",
      "第3300次 0.011580,ic 0.006261,bc 0.000161,res 0.005158\n",
      "第3400次 0.011071,ic 0.006057,bc 0.000130,res 0.004885\n",
      "第3500次 0.011328,ic 0.006315,bc 0.000080,res 0.004934\n",
      "第3600次 0.011192,ic 0.006200,bc 0.000179,res 0.004814\n",
      "第3700次 0.011549,ic 0.005796,bc 0.000339,res 0.005414\n",
      "第3800次 0.011670,ic 0.006766,bc 0.000620,res 0.004283\n",
      "第3900次 0.011451,ic 0.006134,bc 0.000131,res 0.005186\n",
      "第4000次 0.012089,ic 0.006211,bc 0.000269,res 0.005610\n",
      "第4100次 0.011250,ic 0.006341,bc 0.000341,res 0.004568\n",
      "第4200次 0.011230,ic 0.006039,bc 0.000292,res 0.004899\n",
      "第4300次 0.010910,ic 0.005937,bc 0.000155,res 0.004819\n",
      "第4400次 0.011206,ic 0.005889,bc 0.000192,res 0.005124\n",
      "第4500次 0.010987,ic 0.005711,bc 0.000159,res 0.005116\n",
      "第4600次 0.011126,ic 0.006066,bc 0.000300,res 0.004760\n",
      "第4700次 0.011364,ic 0.006024,bc 0.000485,res 0.004855\n",
      "第4800次 0.010739,ic 0.006019,bc 0.000123,res 0.004598\n",
      "第4900次 0.011878,ic 0.006433,bc 0.000342,res 0.005104\n",
      "第5000次 0.011158,ic 0.005952,bc 0.000355,res 0.004852\n",
      "第5100次 0.011506,ic 0.006240,bc 0.000270,res 0.004997\n",
      "第5200次 0.010882,ic 0.005774,bc 0.000159,res 0.004950\n",
      "第5300次 0.010830,ic 0.005545,bc 0.000208,res 0.005076\n",
      "第5400次 0.011409,ic 0.006265,bc 0.000197,res 0.004947\n",
      "第5500次 0.011579,ic 0.005906,bc 0.000271,res 0.005403\n",
      "第5600次 0.010933,ic 0.005986,bc 0.000187,res 0.004760\n",
      "第5700次 0.010974,ic 0.005569,bc 0.000155,res 0.005250\n",
      "第5800次 0.010919,ic 0.006078,bc 0.000354,res 0.004487\n",
      "第5900次 0.010895,ic 0.006224,bc 0.000280,res 0.004392\n",
      "第6000次 0.010666,ic 0.005638,bc 0.000266,res 0.004762\n",
      "第6100次 0.011368,ic 0.006103,bc 0.000163,res 0.005101\n",
      "第6200次 0.010850,ic 0.005468,bc 0.000349,res 0.005033\n",
      "第6300次 0.011576,ic 0.006788,bc 0.000180,res 0.004608\n",
      "第6400次 0.010699,ic 0.006155,bc 0.000223,res 0.004321\n",
      "第6500次 0.011042,ic 0.006219,bc 0.000252,res 0.004572\n",
      "第6600次 0.011061,ic 0.005863,bc 0.000349,res 0.004849\n",
      "第6700次 0.011262,ic 0.006305,bc 0.000168,res 0.004790\n",
      "第6800次 0.011394,ic 0.005854,bc 0.000242,res 0.005298\n",
      "第6900次 0.011269,ic 0.006016,bc 0.000262,res 0.004992\n",
      "第7000次 0.010945,ic 0.005676,bc 0.000152,res 0.005117\n",
      "第7100次 0.010828,ic 0.005694,bc 0.000168,res 0.004966\n",
      "第7200次 0.011114,ic 0.005450,bc 0.000211,res 0.005453\n",
      "第7300次 0.010874,ic 0.006018,bc 0.000346,res 0.004510\n",
      "第7400次 0.011112,ic 0.004950,bc 0.000537,res 0.005625\n",
      "第7500次 0.011178,ic 0.005941,bc 0.000352,res 0.004885\n"
     ]
    },
    {
     "ename": "KeyboardInterrupt",
     "evalue": "",
     "output_type": "error",
     "traceback": [
      "\u001B[1;31m---------------------------------------------------------------------------\u001B[0m",
      "\u001B[1;31mKeyboardInterrupt\u001B[0m                         Traceback (most recent call last)",
      "\u001B[1;32m<ipython-input-13-80134812ae47>\u001B[0m in \u001B[0;36m<module>\u001B[1;34m\u001B[0m\n\u001B[0;32m      4\u001B[0m \u001B[0mpi_deeponet_tanh\u001B[0m \u001B[1;33m=\u001B[0m \u001B[0mgPI_DeepONet\u001B[0m\u001B[1;33m(\u001B[0m\u001B[0mm\u001B[0m\u001B[1;33m,\u001B[0m \u001B[0mics_data\u001B[0m\u001B[1;33m,\u001B[0m \u001B[0mbcs_data\u001B[0m\u001B[1;33m,\u001B[0m \u001B[0mres_data\u001B[0m\u001B[1;33m,\u001B[0m \u001B[0mbranch_layers\u001B[0m\u001B[1;33m,\u001B[0m \u001B[0mtrunk_layers\u001B[0m\u001B[1;33m,\u001B[0m \u001B[0mlr\u001B[0m\u001B[1;33m,\u001B[0m \u001B[0mtf\u001B[0m\u001B[1;33m.\u001B[0m\u001B[0mtanh\u001B[0m\u001B[1;33m)\u001B[0m\u001B[1;33m\u001B[0m\u001B[1;33m\u001B[0m\u001B[0m\n\u001B[0;32m      5\u001B[0m \u001B[0mstart_time\u001B[0m \u001B[1;33m=\u001B[0m \u001B[0mtime\u001B[0m\u001B[1;33m.\u001B[0m\u001B[0mtime\u001B[0m\u001B[1;33m(\u001B[0m\u001B[1;33m)\u001B[0m\u001B[1;33m\u001B[0m\u001B[1;33m\u001B[0m\u001B[0m\n\u001B[1;32m----> 6\u001B[1;33m \u001B[0mpi_deeponet_tanh\u001B[0m\u001B[1;33m.\u001B[0m\u001B[0mtrain\u001B[0m\u001B[1;33m(\u001B[0m\u001B[0mmax_iter\u001B[0m\u001B[1;33m=\u001B[0m\u001B[1;36m20000\u001B[0m\u001B[1;33m)\u001B[0m\u001B[1;33m\u001B[0m\u001B[1;33m\u001B[0m\u001B[0m\n\u001B[0m\u001B[0;32m      7\u001B[0m \u001B[0melapsed\u001B[0m \u001B[1;33m=\u001B[0m \u001B[0mtime\u001B[0m\u001B[1;33m.\u001B[0m\u001B[0mtime\u001B[0m\u001B[1;33m(\u001B[0m\u001B[1;33m)\u001B[0m \u001B[1;33m-\u001B[0m \u001B[0mstart_time\u001B[0m\u001B[1;33m\u001B[0m\u001B[1;33m\u001B[0m\u001B[0m\n\u001B[0;32m      8\u001B[0m \u001B[0mprint\u001B[0m\u001B[1;33m(\u001B[0m\u001B[1;34m'Training time: %.4f'\u001B[0m \u001B[1;33m%\u001B[0m \u001B[1;33m(\u001B[0m\u001B[0melapsed\u001B[0m\u001B[1;33m)\u001B[0m\u001B[1;33m)\u001B[0m\u001B[1;33m\u001B[0m\u001B[1;33m\u001B[0m\u001B[0m\n",
      "\u001B[1;32m<ipython-input-4-125366971c75>\u001B[0m in \u001B[0;36mtrain\u001B[1;34m(self, max_iter, batch_size)\u001B[0m\n\u001B[0;32m    121\u001B[0m             }\n\u001B[0;32m    122\u001B[0m             _, loss_value, si, sb, sr, sori, sd1 = self.sess.run([self.optimizer,\n\u001B[1;32m--> 123\u001B[1;33m                 self.loss, self.s_i, self.s_b, self.s_r, self.loss_origin, self.loss_deriv1], tf_dict)\n\u001B[0m\u001B[0;32m    124\u001B[0m             \u001B[0mself\u001B[0m\u001B[1;33m.\u001B[0m\u001B[0mloss_res_log\u001B[0m\u001B[1;33m.\u001B[0m\u001B[0mappend\u001B[0m\u001B[1;33m(\u001B[0m\u001B[0msr\u001B[0m\u001B[1;33m)\u001B[0m\u001B[1;33m\u001B[0m\u001B[1;33m\u001B[0m\u001B[0m\n\u001B[0;32m    125\u001B[0m             \u001B[0mself\u001B[0m\u001B[1;33m.\u001B[0m\u001B[0mloss_bcs_log\u001B[0m\u001B[1;33m.\u001B[0m\u001B[0mappend\u001B[0m\u001B[1;33m(\u001B[0m\u001B[0msb\u001B[0m\u001B[1;33m)\u001B[0m\u001B[1;33m\u001B[0m\u001B[1;33m\u001B[0m\u001B[0m\n",
      "\u001B[1;32md:\\programfile\\python3.7.4\\lib\\site-packages\\tensorflow\\python\\client\\session.py\u001B[0m in \u001B[0;36mrun\u001B[1;34m(self, fetches, feed_dict, options, run_metadata)\u001B[0m\n\u001B[0;32m    948\u001B[0m     \u001B[1;32mtry\u001B[0m\u001B[1;33m:\u001B[0m\u001B[1;33m\u001B[0m\u001B[1;33m\u001B[0m\u001B[0m\n\u001B[0;32m    949\u001B[0m       result = self._run(None, fetches, feed_dict, options_ptr,\n\u001B[1;32m--> 950\u001B[1;33m                          run_metadata_ptr)\n\u001B[0m\u001B[0;32m    951\u001B[0m       \u001B[1;32mif\u001B[0m \u001B[0mrun_metadata\u001B[0m\u001B[1;33m:\u001B[0m\u001B[1;33m\u001B[0m\u001B[1;33m\u001B[0m\u001B[0m\n\u001B[0;32m    952\u001B[0m         \u001B[0mproto_data\u001B[0m \u001B[1;33m=\u001B[0m \u001B[0mtf_session\u001B[0m\u001B[1;33m.\u001B[0m\u001B[0mTF_GetBuffer\u001B[0m\u001B[1;33m(\u001B[0m\u001B[0mrun_metadata_ptr\u001B[0m\u001B[1;33m)\u001B[0m\u001B[1;33m\u001B[0m\u001B[1;33m\u001B[0m\u001B[0m\n",
      "\u001B[1;32md:\\programfile\\python3.7.4\\lib\\site-packages\\tensorflow\\python\\client\\session.py\u001B[0m in \u001B[0;36m_run\u001B[1;34m(self, handle, fetches, feed_dict, options, run_metadata)\u001B[0m\n\u001B[0;32m   1171\u001B[0m     \u001B[1;32mif\u001B[0m \u001B[0mfinal_fetches\u001B[0m \u001B[1;32mor\u001B[0m \u001B[0mfinal_targets\u001B[0m \u001B[1;32mor\u001B[0m \u001B[1;33m(\u001B[0m\u001B[0mhandle\u001B[0m \u001B[1;32mand\u001B[0m \u001B[0mfeed_dict_tensor\u001B[0m\u001B[1;33m)\u001B[0m\u001B[1;33m:\u001B[0m\u001B[1;33m\u001B[0m\u001B[1;33m\u001B[0m\u001B[0m\n\u001B[0;32m   1172\u001B[0m       results = self._do_run(handle, final_targets, final_fetches,\n\u001B[1;32m-> 1173\u001B[1;33m                              feed_dict_tensor, options, run_metadata)\n\u001B[0m\u001B[0;32m   1174\u001B[0m     \u001B[1;32melse\u001B[0m\u001B[1;33m:\u001B[0m\u001B[1;33m\u001B[0m\u001B[1;33m\u001B[0m\u001B[0m\n\u001B[0;32m   1175\u001B[0m       \u001B[0mresults\u001B[0m \u001B[1;33m=\u001B[0m \u001B[1;33m[\u001B[0m\u001B[1;33m]\u001B[0m\u001B[1;33m\u001B[0m\u001B[1;33m\u001B[0m\u001B[0m\n",
      "\u001B[1;32md:\\programfile\\python3.7.4\\lib\\site-packages\\tensorflow\\python\\client\\session.py\u001B[0m in \u001B[0;36m_do_run\u001B[1;34m(self, handle, target_list, fetch_list, feed_dict, options, run_metadata)\u001B[0m\n\u001B[0;32m   1348\u001B[0m     \u001B[1;32mif\u001B[0m \u001B[0mhandle\u001B[0m \u001B[1;32mis\u001B[0m \u001B[1;32mNone\u001B[0m\u001B[1;33m:\u001B[0m\u001B[1;33m\u001B[0m\u001B[1;33m\u001B[0m\u001B[0m\n\u001B[0;32m   1349\u001B[0m       return self._do_call(_run_fn, feeds, fetches, targets, options,\n\u001B[1;32m-> 1350\u001B[1;33m                            run_metadata)\n\u001B[0m\u001B[0;32m   1351\u001B[0m     \u001B[1;32melse\u001B[0m\u001B[1;33m:\u001B[0m\u001B[1;33m\u001B[0m\u001B[1;33m\u001B[0m\u001B[0m\n\u001B[0;32m   1352\u001B[0m       \u001B[1;32mreturn\u001B[0m \u001B[0mself\u001B[0m\u001B[1;33m.\u001B[0m\u001B[0m_do_call\u001B[0m\u001B[1;33m(\u001B[0m\u001B[0m_prun_fn\u001B[0m\u001B[1;33m,\u001B[0m \u001B[0mhandle\u001B[0m\u001B[1;33m,\u001B[0m \u001B[0mfeeds\u001B[0m\u001B[1;33m,\u001B[0m \u001B[0mfetches\u001B[0m\u001B[1;33m)\u001B[0m\u001B[1;33m\u001B[0m\u001B[1;33m\u001B[0m\u001B[0m\n",
      "\u001B[1;32md:\\programfile\\python3.7.4\\lib\\site-packages\\tensorflow\\python\\client\\session.py\u001B[0m in \u001B[0;36m_do_call\u001B[1;34m(self, fn, *args)\u001B[0m\n\u001B[0;32m   1354\u001B[0m   \u001B[1;32mdef\u001B[0m \u001B[0m_do_call\u001B[0m\u001B[1;33m(\u001B[0m\u001B[0mself\u001B[0m\u001B[1;33m,\u001B[0m \u001B[0mfn\u001B[0m\u001B[1;33m,\u001B[0m \u001B[1;33m*\u001B[0m\u001B[0margs\u001B[0m\u001B[1;33m)\u001B[0m\u001B[1;33m:\u001B[0m\u001B[1;33m\u001B[0m\u001B[1;33m\u001B[0m\u001B[0m\n\u001B[0;32m   1355\u001B[0m     \u001B[1;32mtry\u001B[0m\u001B[1;33m:\u001B[0m\u001B[1;33m\u001B[0m\u001B[1;33m\u001B[0m\u001B[0m\n\u001B[1;32m-> 1356\u001B[1;33m       \u001B[1;32mreturn\u001B[0m \u001B[0mfn\u001B[0m\u001B[1;33m(\u001B[0m\u001B[1;33m*\u001B[0m\u001B[0margs\u001B[0m\u001B[1;33m)\u001B[0m\u001B[1;33m\u001B[0m\u001B[1;33m\u001B[0m\u001B[0m\n\u001B[0m\u001B[0;32m   1357\u001B[0m     \u001B[1;32mexcept\u001B[0m \u001B[0merrors\u001B[0m\u001B[1;33m.\u001B[0m\u001B[0mOpError\u001B[0m \u001B[1;32mas\u001B[0m \u001B[0me\u001B[0m\u001B[1;33m:\u001B[0m\u001B[1;33m\u001B[0m\u001B[1;33m\u001B[0m\u001B[0m\n\u001B[0;32m   1358\u001B[0m       \u001B[0mmessage\u001B[0m \u001B[1;33m=\u001B[0m \u001B[0mcompat\u001B[0m\u001B[1;33m.\u001B[0m\u001B[0mas_text\u001B[0m\u001B[1;33m(\u001B[0m\u001B[0me\u001B[0m\u001B[1;33m.\u001B[0m\u001B[0mmessage\u001B[0m\u001B[1;33m)\u001B[0m\u001B[1;33m\u001B[0m\u001B[1;33m\u001B[0m\u001B[0m\n",
      "\u001B[1;32md:\\programfile\\python3.7.4\\lib\\site-packages\\tensorflow\\python\\client\\session.py\u001B[0m in \u001B[0;36m_run_fn\u001B[1;34m(feed_dict, fetch_list, target_list, options, run_metadata)\u001B[0m\n\u001B[0;32m   1339\u001B[0m       \u001B[0mself\u001B[0m\u001B[1;33m.\u001B[0m\u001B[0m_extend_graph\u001B[0m\u001B[1;33m(\u001B[0m\u001B[1;33m)\u001B[0m\u001B[1;33m\u001B[0m\u001B[1;33m\u001B[0m\u001B[0m\n\u001B[0;32m   1340\u001B[0m       return self._call_tf_sessionrun(\n\u001B[1;32m-> 1341\u001B[1;33m           options, feed_dict, fetch_list, target_list, run_metadata)\n\u001B[0m\u001B[0;32m   1342\u001B[0m \u001B[1;33m\u001B[0m\u001B[0m\n\u001B[0;32m   1343\u001B[0m     \u001B[1;32mdef\u001B[0m \u001B[0m_prun_fn\u001B[0m\u001B[1;33m(\u001B[0m\u001B[0mhandle\u001B[0m\u001B[1;33m,\u001B[0m \u001B[0mfeed_dict\u001B[0m\u001B[1;33m,\u001B[0m \u001B[0mfetch_list\u001B[0m\u001B[1;33m)\u001B[0m\u001B[1;33m:\u001B[0m\u001B[1;33m\u001B[0m\u001B[1;33m\u001B[0m\u001B[0m\n",
      "\u001B[1;32md:\\programfile\\python3.7.4\\lib\\site-packages\\tensorflow\\python\\client\\session.py\u001B[0m in \u001B[0;36m_call_tf_sessionrun\u001B[1;34m(self, options, feed_dict, fetch_list, target_list, run_metadata)\u001B[0m\n\u001B[0;32m   1427\u001B[0m     return tf_session.TF_SessionRun_wrapper(\n\u001B[0;32m   1428\u001B[0m         \u001B[0mself\u001B[0m\u001B[1;33m.\u001B[0m\u001B[0m_session\u001B[0m\u001B[1;33m,\u001B[0m \u001B[0moptions\u001B[0m\u001B[1;33m,\u001B[0m \u001B[0mfeed_dict\u001B[0m\u001B[1;33m,\u001B[0m \u001B[0mfetch_list\u001B[0m\u001B[1;33m,\u001B[0m \u001B[0mtarget_list\u001B[0m\u001B[1;33m,\u001B[0m\u001B[1;33m\u001B[0m\u001B[1;33m\u001B[0m\u001B[0m\n\u001B[1;32m-> 1429\u001B[1;33m         run_metadata)\n\u001B[0m\u001B[0;32m   1430\u001B[0m \u001B[1;33m\u001B[0m\u001B[0m\n\u001B[0;32m   1431\u001B[0m   \u001B[1;32mdef\u001B[0m \u001B[0m_call_tf_sessionprun\u001B[0m\u001B[1;33m(\u001B[0m\u001B[0mself\u001B[0m\u001B[1;33m,\u001B[0m \u001B[0mhandle\u001B[0m\u001B[1;33m,\u001B[0m \u001B[0mfeed_dict\u001B[0m\u001B[1;33m,\u001B[0m \u001B[0mfetch_list\u001B[0m\u001B[1;33m)\u001B[0m\u001B[1;33m:\u001B[0m\u001B[1;33m\u001B[0m\u001B[1;33m\u001B[0m\u001B[0m\n",
      "\u001B[1;31mKeyboardInterrupt\u001B[0m: "
     ]
    }
   ],
   "source": [
    "lr = 1e-3\n",
    "branch_layers = [m, 100, 100, 100, 100, 100, 100, 100]\n",
    "trunk_layers =  [2, 100, 100, 100, 100, 100, 100, 100]\n",
    "pi_deeponet_tanh = gPI_DeepONet(m, ics_data, bcs_data, res_data, branch_layers, trunk_layers, lr, tf.tanh)\n",
    "start_time = time.time()\n",
    "pi_deeponet_tanh.train(max_iter=20000)\n",
    "elapsed = time.time() - start_time\n",
    "print('Training time: %.4f' % (elapsed))"
   ],
   "metadata": {
    "collapsed": false,
    "pycharm": {
     "name": "#%%\n"
    }
   }
  },
  {
   "cell_type": "code",
   "execution_count": 14,
   "outputs": [
    {
     "name": "stdout",
     "output_type": "stream",
     "text": [
      "0.38530787316996645\n"
     ]
    }
   ],
   "source": [
    "error = []\n",
    "for idx in range(N_train, N):\n",
    "    error.append(compute_error(idx, usol, m, P_test, pi_deeponet_tanh))\n",
    "error = np.array(error)\n",
    "print(error.mean())"
   ],
   "metadata": {
    "collapsed": false,
    "pycharm": {
     "name": "#%%\n"
    }
   }
  },
  {
   "cell_type": "code",
   "execution_count": 15,
   "outputs": [],
   "source": [
    "u = usol[1400]\n",
    "u0 = u[0,:]\n",
    "\n",
    "t = np.linspace(0, 1, P_test)\n",
    "x = np.linspace(0, 1, P_test)\n",
    "T, X = np.meshgrid(t, x)\n",
    "\n",
    "s = u.T.flatten()\n",
    "u = np.tile(u0, (P_test**2, 1))\n",
    "y = np.hstack([T.flatten()[:,None], X.flatten()[:,None]])\n"
   ],
   "metadata": {
    "collapsed": false,
    "pycharm": {
     "name": "#%%\n"
    }
   }
  },
  {
   "cell_type": "code",
   "execution_count": 16,
   "outputs": [
    {
     "data": {
      "text/plain": "<Figure size 432x360 with 1 Axes>",
      "image/png": "[encoded data removed]"
     },
     "metadata": {
      "needs_background": "light"
     },
     "output_type": "display_data"
    }
   ],
   "source": [
    "# Plot for loss function\n",
    "plt.figure(figsize = (6,5))\n",
    "# plt.plot(model.loss_log, lw=2)\n",
    "plt.plot(pi_deeponet_tanh.loss_ics_log, lw=2, label='ics')\n",
    "plt.plot(pi_deeponet_tanh.loss_bcs_log, lw=2, label='bcs')\n",
    "plt.plot(pi_deeponet_tanh.loss_res_log, lw=2, label='res')\n",
    "plt.xlabel('Iteration')\n",
    "plt.ylabel('Loss')\n",
    "plt.yscale('log')\n",
    "plt.legend()\n",
    "plt.tight_layout()\n",
    "plt.savefig('loss.pdf')\n",
    "plt.show()"
   ],
   "metadata": {
    "collapsed": false,
    "pycharm": {
     "name": "#%%\n"
    }
   }
  },
  {
   "cell_type": "code",
   "execution_count": 17,
   "outputs": [
    {
     "data": {
      "text/plain": "<Figure size 432x360 with 1 Axes>",
      "image/png": "[encoded data removed]"
     },
     "metadata": {
      "needs_background": "light"
     },
     "output_type": "display_data"
    }
   ],
   "source": [
    "plt.figure(figsize = (6,5))\n",
    "plt.plot(pi_deeponet_tanh.loss_origin_log, lw=2, label='origin')\n",
    "plt.plot(pi_deeponet_tanh.loss_deriv1_log, lw=2, label='deriv')\n",
    "plt.xlabel('Iteration')\n",
    "plt.ylabel('Loss')\n",
    "plt.yscale('log')\n",
    "plt.legend()\n",
    "plt.tight_layout()\n",
    "plt.savefig('loss_deriv.pdf')\n",
    "plt.show()"
   ],
   "metadata": {
    "collapsed": false,
    "pycharm": {
     "name": "#%%\n"
    }
   }
  },
  {
   "cell_type": "code",
   "execution_count": 18,
   "outputs": [
    {
     "name": "stdout",
     "output_type": "stream",
     "text": [
      "error_s: 2.390e-01\n"
     ]
    },
    {
     "data": {
      "text/plain": "<Figure size 432x360 with 2 Axes>",
      "image/png": "[encoded data removed]"
     },
     "metadata": {
      "needs_background": "light"
     },
     "output_type": "display_data"
    },
    {
     "data": {
      "text/plain": "<Figure size 432x360 with 2 Axes>",
      "image/png": "[encoded data removed]"
     },
     "metadata": {
      "needs_background": "light"
     },
     "output_type": "display_data"
    },
    {
     "data": {
      "text/plain": "<Figure size 432x360 with 2 Axes>",
      "image/png": "[encoded data removed]"
     },
     "metadata": {
      "needs_background": "light"
     },
     "output_type": "display_data"
    }
   ],
   "source": [
    "# Plot for one generated data\n",
    "k = 1833 # index\n",
    "u = usol[k,:, :]\n",
    "u0 = usol[k,0,:]\n",
    "\n",
    "P_test = 101\n",
    "\n",
    "t = np.linspace(0, 1, P_test)\n",
    "x = np.linspace(0, 1, P_test)\n",
    "T, X = np.meshgrid(t, x)\n",
    "\n",
    "u_test = np.tile(u0, (P_test**2, 1))\n",
    "y_test = np.hstack([T.flatten()[:,None], X.flatten()[:,None]])\n",
    "s_test = u.flatten()[:,None]\n",
    "\n",
    "s_pred = pi_deeponet_tanh.predict_s(u_test, y_test[:, 0][:, None], y_test[:, 1][:, None])\n",
    "S_pred = griddata(y_test, s_pred.flatten(), (T, X), method='cubic')\n",
    "\n",
    "error_s = np.linalg.norm(u - S_pred.T, 2) / np.linalg.norm(u, 2)\n",
    "\n",
    "print(\"error_s: {:.3e}\".format(error_s))\n",
    "\n",
    "fig = plt.figure(figsize=(6,5))\n",
    "plt.pcolor(T, X, u, cmap='jet')\n",
    "plt.xlabel('$x$')\n",
    "plt.ylabel('$t$')\n",
    "plt.title('Exact $s(x,t)$')\n",
    "plt.colorbar()\n",
    "plt.tight_layout()\n",
    "plt.savefig('Exact s.pdf')\n",
    "\n",
    "fig = plt.figure(figsize=(6,5))\n",
    "plt.pcolor(T, X, S_pred.T, cmap='jet')\n",
    "plt.xlabel('$x$')\n",
    "plt.ylabel('$t$')\n",
    "plt.title('Predict $s(x,t)$')\n",
    "plt.colorbar()\n",
    "plt.tight_layout()\n",
    "plt.savefig('Pred s.pdf')\n",
    "\n",
    "fig = plt.figure(figsize=(6,5))\n",
    "plt.pcolor(T, X, np.abs(S_pred.T - u), cmap='jet')\n",
    "plt.xlabel('$x$')\n",
    "plt.ylabel('$t$')\n",
    "plt.title('Absolute error')\n",
    "plt.colorbar()\n",
    "plt.tight_layout()\n",
    "plt.savefig('Absolute error.pdf')\n",
    "plt.show()"
   ],
   "metadata": {
    "collapsed": false,
    "pycharm": {
     "name": "#%%\n"
    }
   }
  },
  {
   "cell_type": "code",
   "execution_count": null,
   "outputs": [],
   "source": [
    "lr = 1e-3\n",
    "branch_layers = [m, 100, 100, 100, 100, 100, 100, 100]\n",
    "trunk_layers =  [2, 100, 100, 100, 100, 100, 100, 100]\n",
    "pi_deeponet_relu = gPI_DeepONet(m, ics_data, bcs_data, res_data, branch_layers, trunk_layers, lr, tf.nn.relu)\n",
    "start_time = time.time()\n",
    "pi_deeponet_relu.train(max_iter=20000)\n",
    "elapsed = time.time() - start_time\n",
    "print('Training time: %.4f' % (elapsed))"
   ],
   "metadata": {
    "collapsed": false,
    "pycharm": {
     "name": "#%%\n"
    }
   }
  },
  {
   "cell_type": "code",
   "execution_count": null,
   "outputs": [],
   "source": [],
   "metadata": {
    "collapsed": false,
    "pycharm": {
     "name": "#%%\n"
    }
   }
  }
 ],
 "metadata": {
  "kernelspec": {
   "display_name": "Python 3",
   "language": "python",
   "name": "python3"
  },
  "language_info": {
   "codemirror_mode": {
    "name": "ipython",
    "version": 2
   },
   "file_extension": ".py",
   "mimetype": "text/x-python",
   "name": "python",
   "nbconvert_exporter": "python",
   "pygments_lexer": "ipython2",
   "version": "2.7.6"
  }
 },
 "nbformat": 4,
 "nbformat_minor": 0
}