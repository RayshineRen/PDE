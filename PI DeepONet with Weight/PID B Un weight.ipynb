{
 "cells": [
  {
   "cell_type": "code",
   "execution_count": 3,
   "metadata": {
    "collapsed": true
   },
   "outputs": [],
   "source": [
    "import tensorflow as tf\n",
    "import numpy as np\n",
    "import matplotlib.pyplot as plt\n",
    "import time\n",
    "import scipy.io\n",
    "from scipy.interpolate import griddata\n",
    "import warnings\n",
    "warnings.filterwarnings(\"ignore\")\n",
    "warnings.simplefilter('ignore')"
   ]
  },
  {
   "cell_type": "code",
   "execution_count": 4,
   "outputs": [],
   "source": [
    "np.random.seed(1234)\n",
    "tf.set_random_seed(1234)"
   ],
   "metadata": {
    "collapsed": false,
    "pycharm": {
     "name": "#%%\n"
    }
   }
  },
  {
   "cell_type": "code",
   "execution_count": 1,
   "outputs": [],
   "source": [
    "class PI_DeepONet:\n",
    "    def __init__(self, m, ics_data, bcs_data, res_data, branch_layer, trunk_layer, lr, activation):\n",
    "        self.m = m\n",
    "        self.ics_data = ics_data\n",
    "        self.bcs_data = bcs_data\n",
    "        self.res_data = res_data\n",
    "        self.activation = activation\n",
    "        self.loss_log = []\n",
    "        self.loss_res_log = []\n",
    "        self.loss_ics_log = []\n",
    "        self.loss_bcs_log = []\n",
    "\n",
    "        self.branch_layer = branch_layer\n",
    "        self.trunk_layer  = trunk_layer\n",
    "\n",
    "        self.sess = tf.Session()\n",
    "        self.branch_weights, self.branch_biases = self.initilize_NN(branch_layer)\n",
    "        self.trunk_weights, self.trunk_biases   = self.initilize_NN(trunk_layer)\n",
    "        self.bias = tf.Variable(tf.zeros([1], dtype=tf.float32), dtype=tf.float32)\n",
    "        # initial condition\n",
    "        self.u_i_tf  = tf.placeholder(tf.float32, shape=[None, self.m])\n",
    "        self.t_i_tf  = tf.placeholder(tf.float32, shape=[None, 1])\n",
    "        self.x_i_tf  = tf.placeholder(tf.float32, shape=[None, 1])\n",
    "        self.s_i_tf  = tf.placeholder(tf.float32, shape=[None, 1])\n",
    "        # boundary condition\n",
    "        self.u_b_tf  = tf.placeholder(tf.float32, shape=[None, self.m])\n",
    "        self.t1_b_tf = tf.placeholder(tf.float32, shape=[None, 1])\n",
    "        self.x1_b_tf = tf.placeholder(tf.float32, shape=[None, 1])\n",
    "        self.t2_b_tf = tf.placeholder(tf.float32, shape=[None, 1])\n",
    "        self.x2_b_tf = tf.placeholder(tf.float32, shape=[None, 1])\n",
    "        self.s_b_tf  = tf.placeholder(tf.float32, shape=[None, 1])\n",
    "        # collocation points\n",
    "        self.u_r_tf  = tf.placeholder(tf.float32, shape=[None, self.m])\n",
    "        self.t_r_tf  = tf.placeholder(tf.float32, shape=[None, 1])\n",
    "        self.x_r_tf  = tf.placeholder(tf.float32, shape=[None, 1])\n",
    "        self.s_r_tf  = tf.placeholder(tf.float32, shape=[None, 1])\n",
    "\n",
    "        self.operator = self.operator_net(self.u_r_tf, self.t_r_tf, self.x_r_tf)\n",
    "        self.residual = self.residual_net(self.u_r_tf, self.t_r_tf, self.x_r_tf)\n",
    "        self.s_r      = self.loss_res(self.u_r_tf, self.t_r_tf, self.x_r_tf, self.s_r_tf)\n",
    "        self.s_i      = self.loss_ics(self.u_i_tf, self.t_i_tf, self.x_i_tf, self.s_i_tf)\n",
    "        self.s_b      = self.loss_bcs(self.u_b_tf, self.t1_b_tf, self.x1_b_tf,\n",
    "                                      self.t2_b_tf, self.x2_b_tf, self.s_b_tf)\n",
    "        self.weight = 20\n",
    "        self.loss     = self.weight*self.s_r + self.weight*self.s_i + self.s_b\n",
    "\n",
    "        steps_per_decay = 1000\n",
    "        decay_factor = 0.9\n",
    "        self.global_step = tf.Variable(0, trainable=False)\n",
    "        self.lr = tf.train.exponential_decay(learning_rate = lr,\n",
    "                                           global_step = self.global_step,\n",
    "                                           decay_steps = steps_per_decay,\n",
    "                                           decay_rate = decay_factor,\n",
    "                                           staircase = True\n",
    "                                           )\n",
    "        self.optimizer = tf.train.AdamOptimizer(learning_rate=self.lr).minimize(self.loss,\n",
    "                                            global_step=self.global_step)\n",
    "        init = tf.global_variables_initializer()\n",
    "        self.sess.run(init)\n",
    "\n",
    "    def callback(self, loss, sr, si, sb):\n",
    "        print('Loss:%f,ic:%f,bc:%f,res:%f'%(loss, si, sb, sr))\n",
    "\n",
    "    def initilize_NN(self, layers):\n",
    "        weights = []\n",
    "        biases  = []\n",
    "        num_layers = len(layers)\n",
    "        for l in range(0, num_layers - 1):\n",
    "            W = self.xavier_init(size=[layers[l], layers[l+1]])\n",
    "            b = tf.Variable(tf.zeros([1,layers[l+1]], dtype=tf.float32), dtype=tf.float32)\n",
    "            weights.append(W)\n",
    "            biases.append(b)\n",
    "        return weights, biases\n",
    "\n",
    "    def xavier_init(self, size):\n",
    "        in_dim = size[0]\n",
    "        out_dim = size[1]\n",
    "        xavier_stddev = np.sqrt(2/(in_dim + out_dim))\n",
    "        return tf.Variable(tf.truncated_normal([in_dim, out_dim], stddev=xavier_stddev), dtype=tf.float32)\n",
    "\n",
    "    def neural_net(self, X, weights, biases, activation):\n",
    "        num_layers = len(weights) + 1\n",
    "        H = X\n",
    "        for l in range(0, num_layers - 2):\n",
    "            W = weights[l]\n",
    "            b = biases[l]\n",
    "            H = activation(tf.add(tf.matmul(H, W), b))\n",
    "        W = weights[-1]\n",
    "        b = biases[-1]\n",
    "        Y = tf.add(tf.matmul(H, W), b)\n",
    "        return Y\n",
    "\n",
    "    def train(self, max_iter=40000, batch_size=50):\n",
    "        loss_value = np.inf\n",
    "        saver=tf.train.Saver(max_to_keep=1)\n",
    "        for iter in range(max_iter):\n",
    "            self.sess.run(self.global_step)\n",
    "            u_i, y_i, s_i = self.ics_data.get_batch()\n",
    "            u_b, y_b, s_b = self.bcs_data.get_batch()\n",
    "            u_r, y_r, s_r = self.res_data.get_batch()\n",
    "            tf_dict = {\n",
    "                self.u_r_tf  : u_r,\n",
    "                self.t_r_tf  : y_r[:, 0][:, None],\n",
    "                self.x_r_tf  : y_r[:, 1][:, None],\n",
    "                self.s_r_tf  : s_r,\n",
    "                self.u_i_tf  : u_i,\n",
    "                self.t_i_tf  : y_i[:, 0][:, None],\n",
    "                self.x_i_tf  : y_i[:, 1][:, None],\n",
    "                self.s_i_tf  : s_i,\n",
    "                self.u_b_tf  : u_b,\n",
    "                self.t1_b_tf : y_b[:, 0][:, None],\n",
    "                self.x1_b_tf : y_b[:, 1][:, None],\n",
    "                self.t2_b_tf : y_b[:, 2][:, None],\n",
    "                self.x2_b_tf : y_b[:, 3][:, None],\n",
    "                self.s_b_tf  : s_b\n",
    "            }\n",
    "            _, loss_value, si, sb, sr= self.sess.run([self.optimizer,\n",
    "                self.loss, self.s_i, self.s_b, self.s_r], tf_dict)\n",
    "            self.loss_res_log.append(sr)\n",
    "            self.loss_bcs_log.append(sb)\n",
    "            self.loss_ics_log.append(si)\n",
    "            self.loss_log.append(loss_value)\n",
    "            self.sess.run(self.lr)\n",
    "            saver.save(self.sess, \"./train/PID B Un weight/ckpt/model.ckpt\", global_step=iter+1)\n",
    "            if iter % 100 == 0:\n",
    "                print(\"第%d次 %f,ic %f,bc %f,res %f\"%(iter, loss_value, si, sb, sr))\n",
    "        # model_file=tf.train.latest_checkpoint('./train/PID B Un weight/ckpt/')\n",
    "        # saver.restore(self.sess, model_file)\n",
    "        print(\"第%d次的损失为%f\"%(max_iter, loss_value))\n",
    "        print(\"最终lr为%f\"%(self.sess.run(self.lr)))\n",
    "\n",
    "    def operator_net(self, u, t, x):\n",
    "        branch_out = self.neural_net(u, self.branch_weights, self.branch_biases, self.activation)\n",
    "        trunk_out  = self.neural_net(tf.concat([t, x], 1), self.trunk_weights, self.trunk_biases, self.activation)\n",
    "        s = tf.reshape(tf.reduce_sum(tf.multiply(branch_out, trunk_out),\n",
    "                     axis=1) + self.bias, [-1, 1])\n",
    "        return s\n",
    "\n",
    "    def residual_net(self, u, t, x):\n",
    "        s_pred = self.operator_net(u, t, x)\n",
    "        s_t  = tf.gradients(s_pred, t)[0]\n",
    "        s_x  = tf.gradients(s_pred, x)[0]\n",
    "        s_xx = tf.gradients(s_x, x)[0]\n",
    "        f    = s_t + s_pred * s_x - 0.01 * s_xx\n",
    "        return f\n",
    "\n",
    "    def predict_s(self, u, t, x):\n",
    "        s = self.sess.run(self.operator, {self.u_r_tf: u, self.t_r_tf : t, self.x_r_tf: x})\n",
    "        return s\n",
    "\n",
    "    def predict_f(self, u, t, x):\n",
    "        s_r = self.sess.run(self.residual, {self.u_r_tf: u, self.t_r_tf : t, self.x_r_tf: x})\n",
    "        return s_r\n",
    "\n",
    "    def loss_res(self, u, t, x, s):\n",
    "        f = self.residual_net(u, t, x)\n",
    "        loss = tf.reduce_mean(tf.square(f - s))\n",
    "        return loss\n",
    "\n",
    "    def loss_ics(self, u, t, x, s):\n",
    "        s_pred = self.operator_net(u, t, x)\n",
    "        loss   =  tf.reduce_mean(tf.square(s_pred - s))\n",
    "        return loss\n",
    "\n",
    "    def loss_bcs(self, u, t1, x1, t2, x2, s):\n",
    "        s_pred_1 = self.operator_net(u, t1, x1)\n",
    "        s_pred_2 = self.operator_net(u, t2, x2)\n",
    "        s_x_1    = tf.gradients(s_pred_1, x1)[0]\n",
    "        s_x_2    = tf.gradients(s_pred_2, x2)[0]\n",
    "        loss_bc1 = tf.reduce_mean(tf.square(s_pred_1 - s_pred_2))\n",
    "        loss_bc2 = tf.reduce_mean(tf.square(s_x_1 - s_x_2))\n",
    "        return loss_bc1 + loss_bc2"
   ],
   "metadata": {
    "collapsed": false,
    "pycharm": {
     "name": "#%%\n"
    }
   }
  },
  {
   "cell_type": "code",
   "execution_count": 5,
   "outputs": [],
   "source": [
    "class DataGenerator():\n",
    "    def __init__(self, u, y, s, batch_size):\n",
    "        self.u = u\n",
    "        self.y = y\n",
    "        self.s = s\n",
    "        self.batch_size = batch_size\n",
    "\n",
    "    def get_batch(self):\n",
    "        N = self.u.shape[0]\n",
    "        index = np.random.randint(0, N, self.batch_size)\n",
    "        u_ = self.u[index, :]\n",
    "        y_ = self.y[index, :]\n",
    "        s_ = self.s[index, :]\n",
    "        return u_, y_, s_"
   ],
   "metadata": {
    "collapsed": false,
    "pycharm": {
     "name": "#%%\n"
    }
   }
  },
  {
   "cell_type": "code",
   "execution_count": 6,
   "outputs": [],
   "source": [
    "# Geneate ics training data\n",
    "def generate_one_ics_data(u0, m=101, P=101):\n",
    "    t_0 = np.zeros((P, 1))\n",
    "    x_0 = np.linspace(0, 1, P)[:, None]\n",
    "    y = np.hstack([t_0, x_0])         # y_shape=(P, 2)\n",
    "    u = np.tile(u0[None, :], (P, 1))  # u_shape=(P, m)\n",
    "    s = u0                            # s_shape=(m,  )\n",
    "\n",
    "    return u, y, s"
   ],
   "metadata": {
    "collapsed": false,
    "pycharm": {
     "name": "#%%\n"
    }
   }
  },
  {
   "cell_type": "code",
   "execution_count": 7,
   "outputs": [],
   "source": [
    "# Geneate bcs training data\n",
    "def generate_one_bcs_data(u0, m=101, P=101):\n",
    "    t_bc = np.random.rand(P)[:, None]\n",
    "    x_bc1 = np.zeros((P, 1))\n",
    "    x_bc2 = np.ones((P, 1))\n",
    "    y1 = np.hstack([t_bc, x_bc1])  # shape = (P, 2)\n",
    "    y2 = np.hstack([t_bc, x_bc2])  # shape = (P, 2)\n",
    "\n",
    "    u = np.tile(u0, (P, 1))        # shape = (P, m)\n",
    "    y = np.hstack([y1, y2])        # shape = (P, 4)\n",
    "    s = np.zeros((P, 1))           # shape = (P, 1)\n",
    "\n",
    "    return u, y, s"
   ],
   "metadata": {
    "collapsed": false,
    "pycharm": {
     "name": "#%%\n"
    }
   }
  },
  {
   "cell_type": "code",
   "execution_count": 8,
   "outputs": [],
   "source": [
    "# Geneate res training data\n",
    "def generate_one_res_data(u0, m=101, P=1000):\n",
    "    t_res = np.random.rand(P)[:, None]\n",
    "    x_res = np.random.rand(P)[:, None]\n",
    "\n",
    "    u = np.tile(u0, (P, 1))         # shape=(P, m)\n",
    "    y = np.hstack([t_res, x_res])   # shape=(P, 2)\n",
    "    s = np.zeros((P, 1))            # shape=(P, 1)\n",
    "\n",
    "    return u, y, s"
   ],
   "metadata": {
    "collapsed": false,
    "pycharm": {
     "name": "#%%\n"
    }
   }
  },
  {
   "cell_type": "code",
   "execution_count": 9,
   "outputs": [],
   "source": [
    "# Generate test data\n",
    "def generate_one_test_data(idx, usol, m=101, P=101):\n",
    "    u = usol[idx]\n",
    "    u0 = u[0,:]\n",
    "\n",
    "    t = np.linspace(0, 1, P)\n",
    "    x = np.linspace(0, 1, P)\n",
    "    T, X = np.meshgrid(t, x)\n",
    "\n",
    "    s = u.T.flatten()            # shape=(P**2, 1)\n",
    "    u = np.tile(u0, (P**2, 1))   # shape=(P**2, m)\n",
    "    y = np.hstack([T.flatten()[:,None], X.flatten()[:,None]]) # shape=(P**2, 2)\n",
    "\n",
    "    return u, y, s"
   ],
   "metadata": {
    "collapsed": false,
    "pycharm": {
     "name": "#%%\n"
    }
   }
  },
  {
   "cell_type": "code",
   "execution_count": 10,
   "outputs": [],
   "source": [
    "def compute_error(idx, usol, m, P, model):\n",
    "    # 生成一组测试数据，计算相对L2误差，使用jax.vmap较方便\n",
    "    u_test, y_test, s_test = generate_one_test_data(idx, usol, m, P)\n",
    "\n",
    "    u_test = u_test.reshape(P**2,-1)\n",
    "    y_test = y_test.reshape(P**2,-1)\n",
    "    s_test = s_test.reshape(P**2,-1)\n",
    "    s_pred = model.predict_s(u_test, y_test[:, 0][:, None], y_test[:, 1][:, None])\n",
    "    error = np.linalg.norm(s_test - s_pred) / np.linalg.norm(s_test)\n",
    "\n",
    "    return error\n"
   ],
   "metadata": {
    "collapsed": false,
    "pycharm": {
     "name": "#%%\n"
    }
   }
  },
  {
   "cell_type": "code",
   "execution_count": 11,
   "outputs": [],
   "source": [
    "path = './Burgers/Burger.mat'\n",
    "data = scipy.io.loadmat(path)\n",
    "usol = np.array(data['output'])\n",
    "N = usol.shape[0]  # number of total input samples\n",
    "N_train =1000      # number of input samples used for training\n",
    "N_test = N - N_train  # number of input samples used for test\n",
    "m = 101            # number of sensors for input samples\n",
    "P_ics_train = 101   # number of locations for evulating the initial condition\n",
    "P_bcs_train = 100    # number of locations for evulating the boundary condition\n",
    "P_res_train = 2500   # number of locations for evulating the PDE residual\n",
    "P_test = 101        # resolution of uniform grid for the test data"
   ],
   "metadata": {
    "collapsed": false,
    "pycharm": {
     "name": "#%%\n"
    }
   }
  },
  {
   "cell_type": "code",
   "execution_count": 12,
   "outputs": [],
   "source": [
    "# 生成数据，并将数据处理成PI_DeepONet的输入类型\n",
    "u0_train = usol[:N_train,0,:]   # input samples\n",
    "u_ics = []\n",
    "y_ics = []\n",
    "s_ics = []\n",
    "for i in range(u0_train.shape[0]):\n",
    "    u, y, s = generate_one_ics_data(u0_train[i], m, P_ics_train)\n",
    "    u_ics.append(u)\n",
    "    y_ics.append(y)\n",
    "    s_ics.append(s)\n",
    "\n",
    "u_bcs = []\n",
    "y_bcs = []\n",
    "s_bcs = []\n",
    "for i in range(u0_train.shape[0]):\n",
    "    u, y, s = generate_one_bcs_data(u0_train[i], m, P_bcs_train)\n",
    "    u_bcs.append(u)\n",
    "    y_bcs.append(y)\n",
    "    s_bcs.append(s)\n",
    "\n",
    "u_res = []\n",
    "y_res = []\n",
    "s_res = []\n",
    "for i in range(u0_train.shape[0]):\n",
    "    u, y, s = generate_one_res_data(u0_train[i], m, P_res_train)\n",
    "    u_res.append(u)\n",
    "    y_res.append(y)\n",
    "    s_res.append(s)\n",
    "u_res = np.reshape(np.array(u_res), (-1, m))\n",
    "u_ics = np.reshape(np.array(u_ics), (-1, m))\n",
    "u_bcs = np.reshape(np.array(u_bcs), (-1, m))\n",
    "y_res = np.reshape(np.array(y_res), (-1, 2))\n",
    "y_ics = np.reshape(np.array(y_ics), (-1, 2))\n",
    "y_bcs = np.reshape(np.array(y_bcs), (-1, 4))\n",
    "s_res = np.reshape(np.array(s_res), (-1, 1))\n",
    "s_ics = np.reshape(np.array(s_ics), (-1, 1))\n",
    "s_bcs = np.reshape(np.array(s_bcs), (-1, 1))\n",
    "\n",
    "batch_size = 5000\n",
    "ics_data = DataGenerator(np.array(u_ics), np.array(y_ics), np.array(s_ics), batch_size)\n",
    "bcs_data = DataGenerator(np.array(u_bcs), np.array(y_bcs), np.array(s_bcs), batch_size)\n",
    "res_data = DataGenerator(np.array(u_res), np.array(y_res), np.array(s_res), batch_size)"
   ],
   "metadata": {
    "collapsed": false,
    "pycharm": {
     "name": "#%%\n"
    }
   }
  },
  {
   "cell_type": "code",
   "execution_count": 18,
   "outputs": [
    {
     "name": "stdout",
     "output_type": "stream",
     "text": [
      "第0次 1.028464,ic 0.050216,bc 0.002504,res 0.001082\n",
      "第100次 0.755488,ic 0.035033,bc 0.044749,res 0.000504\n",
      "第200次 0.740360,ic 0.032362,bc 0.077389,res 0.000786\n",
      "第300次 0.938800,ic 0.042829,bc 0.064307,res 0.000896\n",
      "第400次 0.619500,ic 0.024027,bc 0.083493,res 0.002773\n",
      "第500次 0.262499,ic 0.007950,bc 0.012939,res 0.004528\n",
      "第600次 0.243703,ic 0.006861,bc 0.005330,res 0.005058\n",
      "第700次 0.233386,ic 0.005834,bc 0.007094,res 0.005481\n",
      "第800次 0.227082,ic 0.006270,bc 0.004843,res 0.004842\n",
      "第900次 0.230622,ic 0.006663,bc 0.003614,res 0.004687\n",
      "第1000次 0.215632,ic 0.005980,bc 0.004146,res 0.004594\n",
      "第1100次 0.219227,ic 0.005453,bc 0.006223,res 0.005197\n",
      "第1200次 0.220720,ic 0.006107,bc 0.005860,res 0.004636\n",
      "第1300次 0.203937,ic 0.005150,bc 0.006343,res 0.004730\n",
      "第1400次 0.212519,ic 0.005467,bc 0.005934,res 0.004862\n",
      "第1500次 0.201228,ic 0.005680,bc 0.004936,res 0.004135\n",
      "第1600次 0.209869,ic 0.005407,bc 0.006431,res 0.004765\n",
      "第1700次 0.211429,ic 0.005411,bc 0.005591,res 0.004881\n",
      "第1800次 0.186807,ic 0.004497,bc 0.009205,res 0.004383\n",
      "第1900次 0.195347,ic 0.004349,bc 0.010679,res 0.004884\n",
      "第2000次 0.187055,ic 0.004982,bc 0.006191,res 0.004061\n",
      "第2100次 0.172894,ic 0.004672,bc 0.007850,res 0.003580\n",
      "第2200次 0.169379,ic 0.004547,bc 0.006412,res 0.003601\n",
      "第2300次 0.160129,ic 0.004463,bc 0.008837,res 0.003102\n",
      "第2400次 0.150716,ic 0.003539,bc 0.008399,res 0.003577\n",
      "第2500次 0.145500,ic 0.003893,bc 0.008563,res 0.002954\n",
      "第2600次 0.125048,ic 0.003440,bc 0.006768,res 0.002474\n",
      "第2700次 0.114972,ic 0.002794,bc 0.004714,res 0.002719\n",
      "第2800次 0.107304,ic 0.002186,bc 0.007429,res 0.002808\n",
      "第2900次 0.098249,ic 0.002120,bc 0.005923,res 0.002497\n",
      "第3000次 0.109420,ic 0.002154,bc 0.004558,res 0.003090\n",
      "第3100次 0.098148,ic 0.002469,bc 0.004229,res 0.002227\n",
      "第3200次 0.097358,ic 0.002200,bc 0.004297,res 0.002453\n",
      "第3300次 0.092111,ic 0.002248,bc 0.003941,res 0.002161\n",
      "第3400次 0.090539,ic 0.001952,bc 0.004542,res 0.002348\n",
      "第3500次 0.085497,ic 0.001923,bc 0.003637,res 0.002170\n",
      "第3600次 0.090057,ic 0.002069,bc 0.004626,res 0.002203\n",
      "第3700次 0.087637,ic 0.002111,bc 0.004060,res 0.002068\n",
      "第3800次 0.084241,ic 0.002047,bc 0.004131,res 0.001959\n",
      "第3900次 0.084002,ic 0.001743,bc 0.003331,res 0.002291\n",
      "第4000次 0.084912,ic 0.002239,bc 0.003739,res 0.001820\n",
      "第4100次 0.080941,ic 0.001660,bc 0.003336,res 0.002220\n",
      "第4200次 0.082508,ic 0.001694,bc 0.003630,res 0.002250\n",
      "第4300次 0.080592,ic 0.001871,bc 0.003407,res 0.001989\n",
      "第4400次 0.082644,ic 0.001833,bc 0.003780,res 0.002110\n",
      "第4500次 0.081414,ic 0.001667,bc 0.003637,res 0.002222\n",
      "第4600次 0.079815,ic 0.001608,bc 0.002868,res 0.002239\n",
      "第4700次 0.074166,ic 0.001731,bc 0.003300,res 0.001812\n",
      "第4800次 0.072166,ic 0.001526,bc 0.004258,res 0.001870\n",
      "第4900次 0.067043,ic 0.001349,bc 0.002411,res 0.001882\n",
      "第5000次 0.073785,ic 0.001554,bc 0.003859,res 0.001942\n",
      "第5100次 0.065602,ic 0.001428,bc 0.003256,res 0.001690\n",
      "第5200次 0.068904,ic 0.001360,bc 0.004519,res 0.001860\n",
      "第5300次 0.061850,ic 0.001421,bc 0.002809,res 0.001531\n",
      "第5400次 0.066092,ic 0.001487,bc 0.002875,res 0.001674\n",
      "第5500次 0.066314,ic 0.001332,bc 0.006487,res 0.001659\n",
      "第5600次 0.066474,ic 0.001269,bc 0.005654,res 0.001772\n",
      "第5700次 0.055667,ic 0.001187,bc 0.003104,res 0.001441\n",
      "第5800次 0.062461,ic 0.001275,bc 0.002381,res 0.001729\n",
      "第5900次 0.063805,ic 0.001391,bc 0.003592,res 0.001620\n",
      "第6000次 0.057979,ic 0.001168,bc 0.004068,res 0.001528\n",
      "第6100次 0.057631,ic 0.001113,bc 0.002212,res 0.001658\n",
      "第6200次 0.051814,ic 0.001226,bc 0.001936,res 0.001268\n",
      "第6300次 0.055235,ic 0.001153,bc 0.002043,res 0.001507\n",
      "第6400次 0.051201,ic 0.000967,bc 0.002652,res 0.001461\n",
      "第6500次 0.055724,ic 0.001142,bc 0.003168,res 0.001485\n",
      "第6600次 0.051946,ic 0.001176,bc 0.002980,res 0.001273\n",
      "第6700次 0.051454,ic 0.001105,bc 0.002230,res 0.001357\n",
      "第6800次 0.043636,ic 0.000841,bc 0.001948,res 0.001243\n",
      "第6900次 0.049791,ic 0.000971,bc 0.002368,res 0.001400\n",
      "第7000次 0.050676,ic 0.001077,bc 0.002082,res 0.001353\n",
      "第7100次 0.049125,ic 0.000958,bc 0.002934,res 0.001352\n",
      "第7200次 0.049175,ic 0.000964,bc 0.001875,res 0.001401\n",
      "第7300次 0.049250,ic 0.000863,bc 0.003633,res 0.001418\n",
      "第7400次 0.046041,ic 0.001006,bc 0.002130,res 0.001190\n",
      "第7500次 0.048436,ic 0.000916,bc 0.002374,res 0.001387\n",
      "第7600次 0.049155,ic 0.000906,bc 0.002940,res 0.001404\n",
      "第7700次 0.045142,ic 0.000924,bc 0.001639,res 0.001251\n",
      "第7800次 0.044079,ic 0.000947,bc 0.002189,res 0.001147\n",
      "第7900次 0.042962,ic 0.000876,bc 0.001820,res 0.001181\n",
      "第8000次 0.041194,ic 0.000793,bc 0.002846,res 0.001125\n",
      "第8100次 0.039286,ic 0.000807,bc 0.001454,res 0.001084\n",
      "第8200次 0.048902,ic 0.000873,bc 0.003402,res 0.001402\n",
      "第8300次 0.041646,ic 0.000787,bc 0.001787,res 0.001206\n",
      "第8400次 0.044437,ic 0.000885,bc 0.001750,res 0.001249\n",
      "第8500次 0.044017,ic 0.000831,bc 0.001920,res 0.001274\n",
      "第8600次 0.042063,ic 0.000769,bc 0.004042,res 0.001132\n",
      "第8700次 0.040483,ic 0.000840,bc 0.001695,res 0.001099\n",
      "第8800次 0.039185,ic 0.000799,bc 0.001583,res 0.001081\n",
      "第8900次 0.041206,ic 0.000843,bc 0.001667,res 0.001134\n",
      "第9000次 0.039637,ic 0.000714,bc 0.002368,res 0.001150\n",
      "第9100次 0.039760,ic 0.000780,bc 0.002226,res 0.001097\n",
      "第9200次 0.034361,ic 0.000765,bc 0.001295,res 0.000888\n",
      "第9300次 0.038328,ic 0.000686,bc 0.002072,res 0.001127\n",
      "第9400次 0.038433,ic 0.000739,bc 0.001858,res 0.001089\n",
      "第9500次 0.038108,ic 0.000714,bc 0.001940,res 0.001095\n",
      "第9600次 0.038656,ic 0.000772,bc 0.002481,res 0.001037\n",
      "第9700次 0.039198,ic 0.000756,bc 0.001541,res 0.001127\n",
      "第9800次 0.036647,ic 0.000852,bc 0.001534,res 0.000904\n",
      "第9900次 0.037409,ic 0.000674,bc 0.001456,res 0.001123\n",
      "第10000次 0.034044,ic 0.000702,bc 0.001677,res 0.000916\n",
      "第10100次 0.036925,ic 0.000783,bc 0.001884,res 0.000969\n",
      "第10200次 0.035546,ic 0.000649,bc 0.001783,res 0.001039\n",
      "第10300次 0.034318,ic 0.000655,bc 0.002062,res 0.000958\n",
      "第10400次 0.037854,ic 0.000855,bc 0.002569,res 0.000909\n",
      "第10500次 0.033535,ic 0.000588,bc 0.002061,res 0.000986\n",
      "第10600次 0.033429,ic 0.000587,bc 0.001855,res 0.000992\n",
      "第10700次 0.033531,ic 0.000575,bc 0.001491,res 0.001027\n",
      "第10800次 0.033866,ic 0.000608,bc 0.001554,res 0.001008\n",
      "第10900次 0.034497,ic 0.000664,bc 0.002086,res 0.000957\n",
      "第11000次 0.029893,ic 0.000561,bc 0.001658,res 0.000851\n",
      "第11100次 0.031853,ic 0.000590,bc 0.001382,res 0.000934\n",
      "第11200次 0.030661,ic 0.000677,bc 0.001566,res 0.000778\n",
      "第11300次 0.029752,ic 0.000552,bc 0.001579,res 0.000856\n",
      "第11400次 0.033541,ic 0.000571,bc 0.002309,res 0.000990\n",
      "第11500次 0.029371,ic 0.000550,bc 0.001922,res 0.000823\n",
      "第11600次 0.032879,ic 0.000572,bc 0.003383,res 0.000903\n",
      "第11700次 0.029124,ic 0.000600,bc 0.001200,res 0.000796\n",
      "第11800次 0.029832,ic 0.000539,bc 0.002164,res 0.000844\n",
      "第11900次 0.030621,ic 0.000480,bc 0.001394,res 0.000982\n",
      "第12000次 0.030479,ic 0.000537,bc 0.001294,res 0.000922\n",
      "第12100次 0.028819,ic 0.000573,bc 0.001126,res 0.000812\n",
      "第12200次 0.028621,ic 0.000515,bc 0.002442,res 0.000793\n",
      "第12300次 0.027431,ic 0.000499,bc 0.001659,res 0.000789\n",
      "第12400次 0.027490,ic 0.000516,bc 0.002250,res 0.000746\n",
      "第12500次 0.032071,ic 0.000530,bc 0.001493,res 0.000999\n",
      "第12600次 0.028022,ic 0.000552,bc 0.001170,res 0.000790\n",
      "第12700次 0.028913,ic 0.000548,bc 0.001096,res 0.000843\n",
      "第12800次 0.028393,ic 0.000492,bc 0.001666,res 0.000845\n",
      "第12900次 0.026072,ic 0.000468,bc 0.001813,res 0.000745\n",
      "第13000次 0.030043,ic 0.000517,bc 0.001939,res 0.000888\n",
      "第13100次 0.028138,ic 0.000549,bc 0.001231,res 0.000796\n",
      "第13200次 0.026622,ic 0.000457,bc 0.001119,res 0.000818\n",
      "第13300次 0.025332,ic 0.000491,bc 0.001098,res 0.000721\n",
      "第13400次 0.026862,ic 0.000485,bc 0.001083,res 0.000804\n",
      "第13500次 0.025499,ic 0.000529,bc 0.002580,res 0.000616\n",
      "第13600次 0.025403,ic 0.000495,bc 0.001093,res 0.000721\n",
      "第13700次 0.026603,ic 0.000450,bc 0.001248,res 0.000818\n",
      "第13800次 0.026454,ic 0.000484,bc 0.001304,res 0.000774\n",
      "第13900次 0.025942,ic 0.000443,bc 0.001181,res 0.000795\n",
      "第14000次 0.027521,ic 0.000492,bc 0.001234,res 0.000822\n",
      "第14100次 0.025475,ic 0.000463,bc 0.001289,res 0.000747\n",
      "第14200次 0.025942,ic 0.000420,bc 0.001188,res 0.000817\n",
      "第14300次 0.024107,ic 0.000428,bc 0.001247,res 0.000715\n",
      "第14400次 0.023961,ic 0.000456,bc 0.001079,res 0.000688\n",
      "第14500次 0.024177,ic 0.000448,bc 0.001357,res 0.000693\n",
      "第14600次 0.026067,ic 0.000478,bc 0.001322,res 0.000759\n",
      "第14700次 0.024626,ic 0.000484,bc 0.001055,res 0.000695\n",
      "第14800次 0.022227,ic 0.000430,bc 0.001082,res 0.000627\n",
      "第14900次 0.024353,ic 0.000436,bc 0.001077,res 0.000728\n",
      "第15000次 0.024458,ic 0.000449,bc 0.001213,res 0.000713\n",
      "第15100次 0.022582,ic 0.000465,bc 0.001116,res 0.000608\n",
      "第15200次 0.022869,ic 0.000396,bc 0.000962,res 0.000699\n",
      "第15300次 0.024246,ic 0.000425,bc 0.000979,res 0.000738\n",
      "第15400次 0.022297,ic 0.000469,bc 0.000904,res 0.000601\n",
      "第15500次 0.024615,ic 0.000432,bc 0.001228,res 0.000737\n",
      "第15600次 0.021977,ic 0.000417,bc 0.001449,res 0.000610\n",
      "第15700次 0.024537,ic 0.000390,bc 0.001256,res 0.000774\n",
      "第15800次 0.024417,ic 0.000458,bc 0.000949,res 0.000715\n",
      "第15900次 0.027384,ic 0.000412,bc 0.000981,res 0.000909\n",
      "第16000次 0.023483,ic 0.000419,bc 0.001031,res 0.000703\n",
      "第16100次 0.025192,ic 0.000402,bc 0.000916,res 0.000812\n",
      "第16200次 0.023362,ic 0.000449,bc 0.001006,res 0.000669\n",
      "第16300次 0.024486,ic 0.000434,bc 0.000911,res 0.000745\n",
      "第16400次 0.021781,ic 0.000409,bc 0.000948,res 0.000633\n",
      "第16500次 0.024301,ic 0.000420,bc 0.001135,res 0.000739\n",
      "第16600次 0.021157,ic 0.000347,bc 0.000893,res 0.000666\n",
      "第16700次 0.024987,ic 0.000412,bc 0.001154,res 0.000780\n",
      "第16800次 0.023763,ic 0.000409,bc 0.001069,res 0.000726\n",
      "第16900次 0.023846,ic 0.000451,bc 0.001023,res 0.000690\n",
      "第17000次 0.024531,ic 0.000430,bc 0.000953,res 0.000749\n",
      "第17100次 0.021220,ic 0.000426,bc 0.001099,res 0.000580\n",
      "第17200次 0.022548,ic 0.000411,bc 0.001196,res 0.000656\n",
      "第17300次 0.025372,ic 0.000428,bc 0.001027,res 0.000789\n",
      "第17400次 0.023272,ic 0.000418,bc 0.001012,res 0.000695\n",
      "第17500次 0.021774,ic 0.000426,bc 0.001182,res 0.000603\n",
      "第17600次 0.021702,ic 0.000387,bc 0.000914,res 0.000653\n",
      "第17700次 0.021728,ic 0.000377,bc 0.001238,res 0.000648\n",
      "第17800次 0.022004,ic 0.000368,bc 0.001200,res 0.000672\n",
      "第17900次 0.022211,ic 0.000368,bc 0.000965,res 0.000694\n",
      "第18000次 0.022872,ic 0.000425,bc 0.000875,res 0.000675\n",
      "第18100次 0.021205,ic 0.000378,bc 0.001086,res 0.000628\n",
      "第18200次 0.020123,ic 0.000362,bc 0.000962,res 0.000596\n",
      "第18300次 0.020812,ic 0.000392,bc 0.000862,res 0.000605\n",
      "第18400次 0.019004,ic 0.000397,bc 0.000939,res 0.000506\n",
      "第18500次 0.020383,ic 0.000354,bc 0.000980,res 0.000616\n",
      "第18600次 0.021547,ic 0.000384,bc 0.000954,res 0.000646\n",
      "第18700次 0.020613,ic 0.000417,bc 0.000963,res 0.000565\n",
      "第18800次 0.019211,ic 0.000385,bc 0.000875,res 0.000532\n",
      "第18900次 0.021144,ic 0.000392,bc 0.001023,res 0.000614\n",
      "第19000次 0.019577,ic 0.000340,bc 0.001040,res 0.000587\n",
      "第19100次 0.021833,ic 0.000414,bc 0.000836,res 0.000635\n",
      "第19200次 0.020711,ic 0.000456,bc 0.000882,res 0.000535\n",
      "第19300次 0.020338,ic 0.000347,bc 0.000798,res 0.000630\n",
      "第19400次 0.018443,ic 0.000331,bc 0.000756,res 0.000553\n",
      "第19500次 0.022184,ic 0.000404,bc 0.000895,res 0.000661\n",
      "第19600次 0.020891,ic 0.000403,bc 0.000815,res 0.000600\n",
      "第19700次 0.020669,ic 0.000392,bc 0.000913,res 0.000596\n",
      "第19800次 0.019054,ic 0.000334,bc 0.000848,res 0.000576\n",
      "第19900次 0.019619,ic 0.000347,bc 0.000752,res 0.000596\n",
      "第20000次的损失为0.020431\n",
      "最终lr为0.000122\n",
      "Training time: 20690.5312\n"
     ]
    }
   ],
   "source": [
    "lr = 1e-3\n",
    "branch_layers = [m, 100, 100, 100, 100, 100, 100, 100]\n",
    "trunk_layers =  [2, 100, 100, 100, 100, 100, 100, 100]\n",
    "pi_deeponet_tanh = PI_DeepONet(m, ics_data, bcs_data, res_data, branch_layers, trunk_layers, lr, tf.tanh)\n",
    "start_time = time.time()\n",
    "pi_deeponet_tanh.train(max_iter=20000)\n",
    "elapsed = time.time() - start_time\n",
    "print('Training time: %.4f' % (elapsed))"
   ],
   "metadata": {
    "collapsed": false,
    "pycharm": {
     "name": "#%%\n"
    }
   }
  },
  {
   "cell_type": "code",
   "execution_count": 19,
   "outputs": [
    {
     "name": "stdout",
     "output_type": "stream",
     "text": [
      "0.07513030565446285\n"
     ]
    }
   ],
   "source": [
    "error = []\n",
    "for idx in range(N_train, N):\n",
    "    error.append(compute_error(idx, usol, m, P_test, pi_deeponet_tanh))\n",
    "error = np.array(error)\n",
    "print(error.mean())"
   ],
   "metadata": {
    "collapsed": false,
    "pycharm": {
     "name": "#%%\n"
    }
   }
  },
  {
   "cell_type": "code",
   "execution_count": 20,
   "outputs": [],
   "source": [
    "u = usol[1400]\n",
    "u0 = u[0,:]\n",
    "\n",
    "t = np.linspace(0, 1, P_test)\n",
    "x = np.linspace(0, 1, P_test)\n",
    "T, X = np.meshgrid(t, x)\n",
    "\n",
    "s = u.T.flatten()\n",
    "u = np.tile(u0, (P_test**2, 1))\n",
    "y = np.hstack([T.flatten()[:,None], X.flatten()[:,None]])\n"
   ],
   "metadata": {
    "collapsed": false,
    "pycharm": {
     "name": "#%%\n"
    }
   }
  },
  {
   "cell_type": "code",
   "execution_count": 21,
   "outputs": [
    {
     "data": {
      "text/plain": "<Figure size 432x360 with 1 Axes>",
      "image/png": "[encoded data removed]"
     },
     "metadata": {
      "needs_background": "light"
     },
     "output_type": "display_data"
    }
   ],
   "source": [
    "# Plot for loss function\n",
    "plt.figure(figsize = (6,5))\n",
    "# plt.plot(model.loss_log, lw=2)\n",
    "plt.plot(pi_deeponet_tanh.loss_ics_log, lw=2, label='ics')\n",
    "plt.plot(pi_deeponet_tanh.loss_bcs_log, lw=2, label='bcs')\n",
    "plt.plot(pi_deeponet_tanh.loss_res_log, lw=2, label='res')\n",
    "plt.xlabel('Iteration')\n",
    "plt.ylabel('Loss')\n",
    "plt.yscale('log')\n",
    "plt.legend()\n",
    "plt.tight_layout()\n",
    "plt.savefig('loss.pdf')\n",
    "plt.show()"
   ],
   "metadata": {
    "collapsed": false,
    "pycharm": {
     "name": "#%%\n"
    }
   }
  },
  {
   "cell_type": "code",
   "execution_count": 22,
   "outputs": [
    {
     "name": "stdout",
     "output_type": "stream",
     "text": [
      "error_s: 3.688e-02\n"
     ]
    },
    {
     "data": {
      "text/plain": "<Figure size 432x360 with 2 Axes>",
      "image/png": "[encoded data removed]"
     },
     "metadata": {
      "needs_background": "light"
     },
     "output_type": "display_data"
    },
    {
     "data": {
      "text/plain": "<Figure size 432x360 with 2 Axes>",
      "image/png": "[encoded data removed]"
     },
     "metadata": {
      "needs_background": "light"
     },
     "output_type": "display_data"
    },
    {
     "data": {
      "text/plain": "<Figure size 432x360 with 2 Axes>",
      "image/png": "[encoded data removed]"
     },
     "metadata": {
      "needs_background": "light"
     },
     "output_type": "display_data"
    }
   ],
   "source": [
    "# Plot for one generated data\n",
    "k = 1833 # index\n",
    "u = usol[k,:, :]\n",
    "u0 = usol[k,0,:]\n",
    "\n",
    "P_test = 101\n",
    "\n",
    "t = np.linspace(0, 1, P_test)\n",
    "x = np.linspace(0, 1, P_test)\n",
    "T, X = np.meshgrid(t, x)\n",
    "\n",
    "u_test = np.tile(u0, (P_test**2, 1))\n",
    "y_test = np.hstack([T.flatten()[:,None], X.flatten()[:,None]])\n",
    "s_test = u.flatten()[:,None]\n",
    "\n",
    "s_pred = pi_deeponet_tanh.predict_s(u_test, y_test[:, 0][:, None], y_test[:, 1][:, None])\n",
    "S_pred = griddata(y_test, s_pred.flatten(), (T, X), method='cubic')\n",
    "\n",
    "error_s = np.linalg.norm(u - S_pred.T, 2) / np.linalg.norm(u, 2)\n",
    "\n",
    "print(\"error_s: {:.3e}\".format(error_s))\n",
    "\n",
    "fig = plt.figure(figsize=(6,5))\n",
    "plt.pcolor(T, X, u, cmap='jet')\n",
    "plt.xlabel('$x$')\n",
    "plt.ylabel('$t$')\n",
    "plt.title('Exact $s(x,t)$')\n",
    "plt.colorbar()\n",
    "plt.tight_layout()\n",
    "plt.savefig('Exact s.pdf')\n",
    "\n",
    "fig = plt.figure(figsize=(6,5))\n",
    "plt.pcolor(T, X, S_pred.T, cmap='jet')\n",
    "plt.xlabel('$x$')\n",
    "plt.ylabel('$t$')\n",
    "plt.title('Predict $s(x,t)$')\n",
    "plt.colorbar()\n",
    "plt.tight_layout()\n",
    "plt.savefig('Pred s.pdf')\n",
    "\n",
    "fig = plt.figure(figsize=(6,5))\n",
    "plt.pcolor(T, X, np.abs(S_pred.T - u), cmap='jet')\n",
    "plt.xlabel('$x$')\n",
    "plt.ylabel('$t$')\n",
    "plt.title('Absolute error')\n",
    "plt.colorbar()\n",
    "plt.tight_layout()\n",
    "plt.savefig('Absolute error.pdf')\n",
    "plt.show()"
   ],
   "metadata": {
    "collapsed": false,
    "pycharm": {
     "name": "#%%\n"
    }
   }
  },
  {
   "cell_type": "code",
   "execution_count": null,
   "outputs": [],
   "source": [
    "lr = 1e-3\n",
    "branch_layers = [m, 100, 100, 100, 100, 100, 100, 100]\n",
    "trunk_layers =  [2, 100, 100, 100, 100, 100, 100, 100]\n",
    "pi_deeponet_relu = PI_DeepONet(m, ics_data, bcs_data, res_data, branch_layers, trunk_layers, lr, tf.nn.relu)\n",
    "start_time = time.time()\n",
    "pi_deeponet_relu.train(max_iter=20000)\n",
    "elapsed = time.time() - start_time\n",
    "print('Training time: %.4f' % (elapsed))"
   ],
   "metadata": {
    "collapsed": false,
    "pycharm": {
     "name": "#%%\n"
    }
   }
  }
 ],
 "metadata": {
  "kernelspec": {
   "display_name": "Python 3",
   "language": "python",
   "name": "python3"
  },
  "language_info": {
   "codemirror_mode": {
    "name": "ipython",
    "version": 2
   },
   "file_extension": ".py",
   "mimetype": "text/x-python",
   "name": "python",
   "nbconvert_exporter": "python",
   "pygments_lexer": "ipython2",
   "version": "2.7.6"
  }
 },
 "nbformat": 4,
 "nbformat_minor": 0
}