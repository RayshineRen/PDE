{
 "cells": [
  {
   "cell_type": "code",
   "execution_count": 2,
   "metadata": {
    "collapsed": true
   },
   "outputs": [],
   "source": [
    "import os\n",
    "os.environ[\"CUDA_VISIBLE_DEVICES\"] = \"-1\"  # 这一行注释掉就是使用gpu，不注释就是使用cpu\n",
    "\n",
    "import tensorflow as tf\n",
    "import numpy as np\n",
    "import matplotlib.pyplot as plt\n",
    "import time\n",
    "import scipy.io\n",
    "from pyDOE import lhs\n",
    "from scipy.interpolate import griddata\n",
    "import warnings\n",
    "warnings.filterwarnings(\"ignore\")\n",
    "warnings.simplefilter('ignore')"
   ]
  },
  {
   "cell_type": "code",
   "execution_count": 3,
   "outputs": [],
   "source": [
    "np.random.seed(1234)\n",
    "tf.set_random_seed(1234)"
   ],
   "metadata": {
    "collapsed": false,
    "pycharm": {
     "name": "#%%\n"
    }
   }
  },
  {
   "cell_type": "code",
   "execution_count": 4,
   "outputs": [],
   "source": [
    "class gPINN:\n",
    "    def __init__(self, ics_data, bcs_data, res_data, layers, activation, lr, weight_g):\n",
    "        self.ics_data = ics_data\n",
    "        self.bcs_data = bcs_data\n",
    "        self.res_data = res_data\n",
    "        self.lr = lr\n",
    "        self.activation = activation\n",
    "        self.weight_g = weight_g\n",
    "        self.loss_log = []\n",
    "        self.loss_res_log = []\n",
    "        self.loss_ics_log = []\n",
    "        self.loss_bcs_log = []\n",
    "        # initial neural network\n",
    "        self.weights, self.biases = self.initilize_NN(layers)\n",
    "        self.sess = tf.Session(config=tf.ConfigProto(log_device_placement=True))\n",
    "        # define placeholder\n",
    "        # initial condition\n",
    "        self.u_i_tf  = tf.placeholder(tf.float32, shape=[None, 1])\n",
    "        self.t_i_tf  = tf.placeholder(tf.float32, shape=[None, 1])\n",
    "        self.x_i_tf  = tf.placeholder(tf.float32, shape=[None, 1])\n",
    "        # boundary condition\n",
    "        self.t_b_tf  = tf.placeholder(tf.float32, shape=[None, 1])\n",
    "        self.x_b_tf  = tf.placeholder(tf.float32, shape=[None, 1])\n",
    "        # collocation points\n",
    "        self.t_r_tf  = tf.placeholder(tf.float32, shape=[None, 1])\n",
    "        self.x_r_tf  = tf.placeholder(tf.float32, shape=[None, 1])\n",
    "        # define u, f, residual loss\n",
    "        self.u_res   = self.net_u(self.x_r_tf, self.t_r_tf)\n",
    "        self.f       = self.net_f(self.u_res, self.x_r_tf, self.t_r_tf)\n",
    "        self.loss_res= tf.reduce_mean(tf.square(self.f))\n",
    "        # Dirichlet boundary\n",
    "        self.u_bcs   = self.net_u(self.x_b_tf, self.t_b_tf)\n",
    "        self.loss_bcs= tf.reduce_mean(tf.square(self.u_bcs))\n",
    "        self.u_ics   = self.net_u(self.x_i_tf, self.t_i_tf)\n",
    "        self.loss_ics= tf.reduce_mean(tf.square(self.u_ics - self.u_i_tf))\n",
    "        # gradient-enhanced\n",
    "        self.loss_res_deri_x = self.net_f_x(self.f, self.x_r_tf)\n",
    "        self.loss_res_deri_t = self.net_f_t(self.f, self.t_r_tf)\n",
    "        # total loss function\n",
    "        self.loss    = self.loss_res + self.loss_bcs + self.loss_ics + \\\n",
    "                       self.weight_g * self.loss_res_deri_x + \\\n",
    "                       self.weight_g * self.loss_res_deri_t\n",
    "        # define BFGS optimizer\n",
    "        self.optimizer = tf.contrib.opt.ScipyOptimizerInterface(\n",
    "            self.loss,\n",
    "            method = 'L-BFGS-B',\n",
    "            options = {'maxiter': 20000,\n",
    "                       'maxfun': 50000,\n",
    "                       'maxcor': 50,\n",
    "                       'maxls': 50,\n",
    "                       'ftol' : 1.0 * np.finfo(float).eps}\n",
    "        )\n",
    "        init = tf.global_variables_initializer()\n",
    "        self.sess.run(init)\n",
    "    '''\n",
    "    function : initilize_NN\n",
    "    input    : layers  (list)\n",
    "    output   : weights ([tf.Variable]), biases ([tf.Variable])\n",
    "    '''\n",
    "    def initilize_NN(self, layers):\n",
    "        weights = []\n",
    "        biases  = []\n",
    "        num_layers = len(layers)\n",
    "        for l in range(0, num_layers - 1):\n",
    "            W = self.xavier_init(size=[layers[l], layers[l+1]])\n",
    "            b = tf.Variable(tf.zeros([1,layers[l+1]], dtype=tf.float32), dtype=tf.float32)\n",
    "            weights.append(W)\n",
    "            biases.append(b)\n",
    "        return weights, biases\n",
    "    '''\n",
    "    function : xavier init\n",
    "    input    : size [layer_in, layer_out]\n",
    "    output   : W_in_out (tf.Variable)\n",
    "    '''\n",
    "    def xavier_init(self, size):\n",
    "        in_dim = size[0]\n",
    "        out_dim = size[1]\n",
    "        xavier_stddev = np.sqrt(2/(in_dim + out_dim))\n",
    "        return tf.Variable(tf.truncated_normal([in_dim, out_dim], stddev=xavier_stddev), dtype=tf.float32)\n",
    "    '''\n",
    "    function : neural_net\n",
    "    input    : X -- input of the NN, weights, biases, activation\n",
    "    output   : Y -- output of the NN\n",
    "    '''\n",
    "    def neural_net(self, X, weights, biases, activation):\n",
    "        num_layers = len(weights) + 1\n",
    "        H = X\n",
    "        for l in range(0, num_layers - 2):\n",
    "            W = weights[l]\n",
    "            b = biases[l]\n",
    "            H = activation(tf.add(tf.matmul(H, W), b))\n",
    "        W = weights[-1]\n",
    "        b = biases[-1]\n",
    "        Y = tf.add(tf.matmul(H, W), b)\n",
    "        return Y\n",
    "    '''\n",
    "    define u\n",
    "    '''\n",
    "    def net_u(self, x, t):\n",
    "        u = self.neural_net(tf.concat([x, t], 1), self.weights, self.biases, self.activation)\n",
    "        return u\n",
    "    '''\n",
    "    define f (residual loss)\n",
    "    '''\n",
    "    def net_f(self, u, x, t):\n",
    "        u_t  = tf.gradients(u, t)[0]\n",
    "        u_x  = tf.gradients(u, x)[0]\n",
    "        u_xx = tf.gradients(u_x, x)[0]\n",
    "        return u_t + u*u_x - 0.01 / np.pi * u_xx\n",
    "\n",
    "    def net_f_x(self, res, x):\n",
    "        res_x = tf.gradients(res, x)[0]\n",
    "        return tf.reduce_mean(tf.square(res_x))\n",
    "\n",
    "    def net_f_t(self, res, t):\n",
    "        res_t = tf.gradients(res, t)[0]\n",
    "        return tf.reduce_mean(tf.square(res_t))\n",
    "\n",
    "    def train(self):\n",
    "        u_i, y_i = self.ics_data.get_batch()\n",
    "        y_b      = self.bcs_data.get_batch()[1]\n",
    "        y_r      = self.res_data.get_batch()[1]\n",
    "        tf_dict = {\n",
    "            self.x_r_tf : y_r[:, 0][:, None],\n",
    "            self.t_r_tf : y_r[:, 1][:, None],\n",
    "            self.x_b_tf : y_b[:, 0][:, None],\n",
    "            self.t_b_tf : y_b[:, 1][:, None],\n",
    "            self.x_i_tf : y_i[:, 0][:, None],\n",
    "            self.t_i_tf : y_i[:, 1][:, None],\n",
    "            self.u_i_tf : u_i\n",
    "        }\n",
    "        self.optimizer.minimize(\n",
    "            self.sess,\n",
    "            feed_dict = tf_dict,\n",
    "            fetches = [self.loss]\n",
    "            # loss_callback = self.callback\n",
    "        )\n",
    "\n",
    "    def callback(self, loss):\n",
    "        print('Loss:', loss)\n",
    "\n",
    "    def predict(self, X_star, T_star):\n",
    "        u_star = self.sess.run(self.u_res, {self.x_r_tf: X_star, self.t_r_tf: T_star})\n",
    "        return u_star"
   ],
   "metadata": {
    "collapsed": false,
    "pycharm": {
     "name": "#%%\n"
    }
   }
  },
  {
   "cell_type": "code",
   "execution_count": 5,
   "outputs": [],
   "source": [
    "# generate batch size data\n",
    "class DataGenerator():\n",
    "    def __init__(self, u, y, batch_size):\n",
    "        self.u = u\n",
    "        self.y = y\n",
    "        self.batch_size = batch_size\n",
    "\n",
    "    def get_batch(self):\n",
    "        N = self.u.shape[0]\n",
    "        index = np.random.randint(0, N, self.batch_size)\n",
    "        u_ = self.u[index, :]\n",
    "        y_ = self.y[index, :]\n",
    "        return u_, y_"
   ],
   "metadata": {
    "collapsed": false,
    "pycharm": {
     "name": "#%%\n"
    }
   }
  },
  {
   "cell_type": "code",
   "execution_count": 6,
   "outputs": [],
   "source": [
    "data = scipy.io.loadmat(r\"D:\\Documents\\grade4term1\\PDE\\数学基础\\NN\\TF_learn\\PINN\\appendix\\Data\\burgers_shock.mat\")\n",
    "t = data['t']\n",
    "x = data['x']\n",
    "Exact = np.real(data['usol']).T\n",
    "X, T = np.meshgrid(x, t)\n",
    "X_star = np.hstack((X.flatten()[:, None], T.flatten()[:, None]))\n",
    "u_star = Exact.flatten()[:, None]"
   ],
   "metadata": {
    "collapsed": false,
    "pycharm": {
     "name": "#%%\n"
    }
   }
  },
  {
   "cell_type": "code",
   "execution_count": 7,
   "outputs": [],
   "source": [
    "'''\n",
    "Generate ics data & bcs data\n",
    "'''\n",
    "batch_size_ics = 256\n",
    "batch_size_bcs = 100\n",
    "# ics\n",
    "x1 = np.hstack((X[0:1,:].T, T[0:1,:].T))\n",
    "u1 = Exact[0:1,:].T\n",
    "ics_data = DataGenerator(u1, x1, batch_size_ics)\n",
    "# bcs x=-1\n",
    "x2 = np.hstack((X[:,0:1], T[:,0:1]))\n",
    "u2 = Exact[:,0:1]\n",
    "# bcs x=1\n",
    "x3 = np.hstack((X[:,-1:], T[:,-1:]))\n",
    "u3 = Exact[:,-1:]\n",
    "bcs_data = DataGenerator(np.vstack([u2, u3]), np.vstack([x2, x3]), batch_size_bcs)\n",
    "\n",
    "lb = X_star.min(0)\n",
    "ub = X_star.max(0)"
   ],
   "metadata": {
    "collapsed": false,
    "pycharm": {
     "name": "#%%\n"
    }
   }
  },
  {
   "cell_type": "code",
   "execution_count": 8,
   "outputs": [],
   "source": [
    "layers = [2, 32, 32, 32, 32, 32, 1]\n",
    "activation = tf.tanh\n",
    "lr = 1e-3\n",
    "iterations = 20000"
   ],
   "metadata": {
    "collapsed": false,
    "pycharm": {
     "name": "#%%\n"
    }
   }
  },
  {
   "cell_type": "code",
   "execution_count": 9,
   "outputs": [],
   "source": [
    "# # Plot for loss function\n",
    "# plt.figure(figsize = (6,5))\n",
    "# # plt.plot(model.loss_log, lw=2)\n",
    "# plt.plot(gPINN_model.loss_ics_log, lw=2, label='ics')\n",
    "# plt.plot(gPINN_model.loss_bcs_log, lw=2, label='bcs')\n",
    "# plt.plot(gPINN_model.loss_res_log, lw=2, label='res')\n",
    "# plt.xlabel('Iteration')\n",
    "# plt.ylabel('Loss')\n",
    "# plt.yscale('log')\n",
    "# plt.legend()\n",
    "# plt.tight_layout()\n",
    "# plt.savefig('loss.pdf')\n",
    "# plt.show()"
   ],
   "metadata": {
    "collapsed": false,
    "pycharm": {
     "name": "#%%\n"
    }
   }
  },
  {
   "cell_type": "code",
   "execution_count": 10,
   "outputs": [],
   "source": [
    "def train_model(N_f, weight_g):\n",
    "    batch_size_res = N_f\n",
    "    X_f_train = lb + (ub-lb)*lhs(2, N_f) # pyODE.lhs 拉丁超立方体抽样\n",
    "    res_data  = DataGenerator(np.zeros((N_f, 1)), X_f_train, batch_size_res)\n",
    "    start_time = time.time()\n",
    "    gPINN_tanh = gPINN(ics_data, bcs_data, res_data, layers, activation, lr, weight_g)\n",
    "    print(\"Start training! N_f:%d\"%(N_f))\n",
    "    gPINN_tanh.train()\n",
    "    elapsed = time.time() - start_time\n",
    "    print('Training time: %.4f' % (elapsed))\n",
    "    return gPINN_tanh"
   ],
   "metadata": {
    "collapsed": false,
    "pycharm": {
     "name": "#%%\n"
    }
   }
  },
  {
   "cell_type": "code",
   "execution_count": 11,
   "outputs": [],
   "source": [
    "def compute_error(model):\n",
    "    u_pred = model.predict(X_star[:, 0][:, None], X_star[:, 1][:, None])\n",
    "    error_u = np.linalg.norm(u_star-u_pred,2)/np.linalg.norm(u_star,2)\n",
    "    print('Error u: %e' % (error_u))\n",
    "    # U_pred = griddata(X_star, u_pred.flatten(), (X, T), method='cubic')\n",
    "    # Error = np.abs(Exact - U_pred)\n",
    "    return error_u"
   ],
   "metadata": {
    "collapsed": false,
    "pycharm": {
     "name": "#%%\n"
    }
   }
  },
  {
   "cell_type": "code",
   "execution_count": 5,
   "outputs": [],
   "source": [
    "ws = [0.1, 0.01]\n",
    "N_fs = [1500, 2000, 2500, 3000]"
   ],
   "metadata": {
    "collapsed": false,
    "pycharm": {
     "name": "#%%\n"
    }
   }
  },
  {
   "cell_type": "code",
   "execution_count": null,
   "outputs": [],
   "source": [
    "for i in range(len(ws)):\n",
    "    errors = []\n",
    "    for N_f in N_fs:\n",
    "        model = train_model(N_f, ws[i])\n",
    "        error = compute_error(model)\n",
    "        print(\"N_f:%d, error:%f\"%(N_f, error))\n",
    "        errors.append(error)\n",
    "    errors = np.array(errors)\n",
    "    np.save('errors_gPINN_w%d.npy'%(i), errors)"
   ],
   "metadata": {
    "collapsed": false,
    "pycharm": {
     "name": "#%%\n"
    }
   }
  },
  {
   "cell_type": "code",
   "execution_count": 10,
   "outputs": [
    {
     "data": {
      "text/plain": "<Figure size 432x288 with 1 Axes>",
      "image/png": "[encoded data removed]"
     },
     "metadata": {
      "needs_background": "light"
     },
     "output_type": "display_data"
    }
   ],
   "source": [
    "errors_PINN = np.load('errors_PINN.npy')\n",
    "errors_g_w_1 = np.load('errors_gPINN_w00.npy')\n",
    "errors_g_w_01 = np.load('errors_gPINN_w01.npy')\n",
    "errors_g_w_001 = np.load('errors_gPINN_w001.npy')\n",
    "plt.plot(N_fs, errors_PINN, 'b-', label='PINN')\n",
    "plt.plot(N_fs, errors_g_w_1, label='gPINN w=1')\n",
    "plt.plot(N_fs, errors_g_w_01, label='gPINN w=0.1')\n",
    "plt.plot(N_fs, errors_g_w_001, label='gPINN w=0.01')\n",
    "plt.yscale('log')\n",
    "plt.tight_layout()\n",
    "plt.legend()\n",
    "plt.savefig('Comparison between NN and gNN L2.pdf')\n",
    "plt.show()"
   ],
   "metadata": {
    "collapsed": false,
    "pycharm": {
     "name": "#%%\n"
    }
   }
  }
 ],
 "metadata": {
  "kernelspec": {
   "display_name": "Python 3",
   "language": "python",
   "name": "python3"
  },
  "language_info": {
   "codemirror_mode": {
    "name": "ipython",
    "version": 2
   },
   "file_extension": ".py",
   "mimetype": "text/x-python",
   "name": "python",
   "nbconvert_exporter": "python",
   "pygments_lexer": "ipython2",
   "version": "2.7.6"
  }
 },
 "nbformat": 4,
 "nbformat_minor": 0
}